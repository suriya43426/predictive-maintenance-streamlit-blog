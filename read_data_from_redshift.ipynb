{
 "cells": [
  {
   "cell_type": "code",
   "execution_count": 1,
   "metadata": {
    "collapsed": true
   },
   "outputs": [
    {
     "name": "stdout",
     "output_type": "stream",
     "text": [
      "Collecting redshift-connector\r\n",
      "  Downloading redshift_connector-2.0.910-py3-none-any.whl (112 kB)\r\n",
      "\u001B[2K     \u001B[90m━━━━━━━━━━━━━━━━━━━━━━━━━━━━━━━━━━━━━━━\u001B[0m \u001B[32m112.1/112.1 kB\u001B[0m \u001B[31m1.4 MB/s\u001B[0m eta \u001B[36m0:00:00\u001B[0ma \u001B[36m0:00:01\u001B[0m\r\n",
      "\u001B[?25hCollecting boto3<2.0.0,>=1.9.201\r\n",
      "  Downloading boto3-1.26.58-py3-none-any.whl (132 kB)\r\n",
      "\u001B[2K     \u001B[90m━━━━━━━━━━━━━━━━━━━━━━━━━━━━━━━━━━━━━━━\u001B[0m \u001B[32m132.7/132.7 kB\u001B[0m \u001B[31m4.7 MB/s\u001B[0m eta \u001B[36m0:00:00\u001B[0m\r\n",
      "\u001B[?25hCollecting scramp<1.5.0,>=1.2.0\r\n",
      "  Downloading scramp-1.4.4-py3-none-any.whl (13 kB)\r\n",
      "Requirement already satisfied: setuptools in /Users/suriyaohmchayatummagoone/opt/anaconda3/envs/predictive_maintenance/lib/python3.9/site-packages (from redshift-connector) (65.6.3)\r\n",
      "Requirement already satisfied: lxml>=4.6.5 in /Users/suriyaohmchayatummagoone/opt/anaconda3/envs/predictive_maintenance/lib/python3.9/site-packages (from redshift-connector) (4.9.1)\r\n",
      "Requirement already satisfied: packaging in /Users/suriyaohmchayatummagoone/opt/anaconda3/envs/predictive_maintenance/lib/python3.9/site-packages (from redshift-connector) (22.0)\r\n",
      "Requirement already satisfied: beautifulsoup4<5.0.0,>=4.7.0 in /Users/suriyaohmchayatummagoone/opt/anaconda3/envs/predictive_maintenance/lib/python3.9/site-packages (from redshift-connector) (4.11.1)\r\n",
      "Collecting botocore<2.0.0,>=1.12.201\r\n",
      "  Downloading botocore-1.29.58-py3-none-any.whl (10.4 MB)\r\n",
      "\u001B[2K     \u001B[90m━━━━━━━━━━━━━━━━━━━━━━━━━━━━━━━━━━━━━━━━\u001B[0m \u001B[32m10.4/10.4 MB\u001B[0m \u001B[31m7.5 MB/s\u001B[0m eta \u001B[36m0:00:00\u001B[0m00:01\u001B[0m0:01\u001B[0m\r\n",
      "\u001B[?25hRequirement already satisfied: requests<3.0.0,>=2.23.0 in /Users/suriyaohmchayatummagoone/opt/anaconda3/envs/predictive_maintenance/lib/python3.9/site-packages (from redshift-connector) (2.28.1)\r\n",
      "Requirement already satisfied: pytz>=2020.1 in /Users/suriyaohmchayatummagoone/opt/anaconda3/envs/predictive_maintenance/lib/python3.9/site-packages (from redshift-connector) (2022.7)\r\n",
      "Requirement already satisfied: soupsieve>1.2 in /Users/suriyaohmchayatummagoone/opt/anaconda3/envs/predictive_maintenance/lib/python3.9/site-packages (from beautifulsoup4<5.0.0,>=4.7.0->redshift-connector) (2.3.2.post1)\r\n",
      "Collecting s3transfer<0.7.0,>=0.6.0\r\n",
      "  Downloading s3transfer-0.6.0-py3-none-any.whl (79 kB)\r\n",
      "\u001B[2K     \u001B[90m━━━━━━━━━━━━━━━━━━━━━━━━━━━━━━━━━━━━━━━━\u001B[0m \u001B[32m79.6/79.6 kB\u001B[0m \u001B[31m4.6 MB/s\u001B[0m eta \u001B[36m0:00:00\u001B[0m\r\n",
      "\u001B[?25hCollecting jmespath<2.0.0,>=0.7.1\r\n",
      "  Downloading jmespath-1.0.1-py3-none-any.whl (20 kB)\r\n",
      "Requirement already satisfied: python-dateutil<3.0.0,>=2.1 in /Users/suriyaohmchayatummagoone/opt/anaconda3/envs/predictive_maintenance/lib/python3.9/site-packages (from botocore<2.0.0,>=1.12.201->redshift-connector) (2.8.2)\r\n",
      "Requirement already satisfied: urllib3<1.27,>=1.25.4 in /Users/suriyaohmchayatummagoone/opt/anaconda3/envs/predictive_maintenance/lib/python3.9/site-packages (from botocore<2.0.0,>=1.12.201->redshift-connector) (1.26.14)\r\n",
      "Requirement already satisfied: certifi>=2017.4.17 in /Users/suriyaohmchayatummagoone/opt/anaconda3/envs/predictive_maintenance/lib/python3.9/site-packages (from requests<3.0.0,>=2.23.0->redshift-connector) (2022.12.7)\r\n",
      "Requirement already satisfied: idna<4,>=2.5 in /Users/suriyaohmchayatummagoone/opt/anaconda3/envs/predictive_maintenance/lib/python3.9/site-packages (from requests<3.0.0,>=2.23.0->redshift-connector) (3.4)\r\n",
      "Requirement already satisfied: charset-normalizer<3,>=2 in /Users/suriyaohmchayatummagoone/opt/anaconda3/envs/predictive_maintenance/lib/python3.9/site-packages (from requests<3.0.0,>=2.23.0->redshift-connector) (2.0.4)\r\n",
      "Collecting asn1crypto>=1.5.1\r\n",
      "  Downloading asn1crypto-1.5.1-py2.py3-none-any.whl (105 kB)\r\n",
      "\u001B[2K     \u001B[90m━━━━━━━━━━━━━━━━━━━━━━━━━━━━━━━━━━━━━━━\u001B[0m \u001B[32m105.0/105.0 kB\u001B[0m \u001B[31m5.5 MB/s\u001B[0m eta \u001B[36m0:00:00\u001B[0m\r\n",
      "\u001B[?25hRequirement already satisfied: six>=1.5 in /Users/suriyaohmchayatummagoone/opt/anaconda3/envs/predictive_maintenance/lib/python3.9/site-packages (from python-dateutil<3.0.0,>=2.1->botocore<2.0.0,>=1.12.201->redshift-connector) (1.16.0)\r\n",
      "Installing collected packages: asn1crypto, scramp, jmespath, botocore, s3transfer, boto3, redshift-connector\r\n",
      "Successfully installed asn1crypto-1.5.1 boto3-1.26.58 botocore-1.29.58 jmespath-1.0.1 redshift-connector-2.0.910 s3transfer-0.6.0 scramp-1.4.4\r\n"
     ]
    }
   ],
   "source": [
    "!pip install redshift-connector"
   ]
  },
  {
   "cell_type": "code",
   "execution_count": 2,
   "outputs": [
    {
     "name": "stdout",
     "output_type": "stream",
     "text": [
      "Requirement already satisfied: boto3 in /Users/suriyaohmchayatummagoone/opt/anaconda3/envs/predictive_maintenance/lib/python3.9/site-packages (1.26.58)\r\n",
      "Requirement already satisfied: jmespath<2.0.0,>=0.7.1 in /Users/suriyaohmchayatummagoone/opt/anaconda3/envs/predictive_maintenance/lib/python3.9/site-packages (from boto3) (1.0.1)\r\n",
      "Requirement already satisfied: s3transfer<0.7.0,>=0.6.0 in /Users/suriyaohmchayatummagoone/opt/anaconda3/envs/predictive_maintenance/lib/python3.9/site-packages (from boto3) (0.6.0)\r\n",
      "Requirement already satisfied: botocore<1.30.0,>=1.29.58 in /Users/suriyaohmchayatummagoone/opt/anaconda3/envs/predictive_maintenance/lib/python3.9/site-packages (from boto3) (1.29.58)\r\n",
      "Requirement already satisfied: python-dateutil<3.0.0,>=2.1 in /Users/suriyaohmchayatummagoone/opt/anaconda3/envs/predictive_maintenance/lib/python3.9/site-packages (from botocore<1.30.0,>=1.29.58->boto3) (2.8.2)\r\n",
      "Requirement already satisfied: urllib3<1.27,>=1.25.4 in /Users/suriyaohmchayatummagoone/opt/anaconda3/envs/predictive_maintenance/lib/python3.9/site-packages (from botocore<1.30.0,>=1.29.58->boto3) (1.26.14)\r\n",
      "Requirement already satisfied: six>=1.5 in /Users/suriyaohmchayatummagoone/opt/anaconda3/envs/predictive_maintenance/lib/python3.9/site-packages (from python-dateutil<3.0.0,>=2.1->botocore<1.30.0,>=1.29.58->boto3) (1.16.0)\r\n"
     ]
    }
   ],
   "source": [
    "!pip install boto3"
   ],
   "metadata": {
    "collapsed": false
   }
  },
  {
   "cell_type": "code",
   "execution_count": 3,
   "outputs": [],
   "source": [
    "import boto3\n",
    "import json\n",
    "import pandas as pd\n",
    "import redshift_connector"
   ],
   "metadata": {
    "collapsed": false
   }
  },
  {
   "cell_type": "code",
   "execution_count": 4,
   "outputs": [
    {
     "ename": "InterfaceError",
     "evalue": "('communication error', TimeoutError(60, 'Operation timed out'))",
     "output_type": "error",
     "traceback": [
      "\u001B[0;31m---------------------------------------------------------------------------\u001B[0m",
      "\u001B[0;31mTimeoutError\u001B[0m                              Traceback (most recent call last)",
      "File \u001B[0;32m~/opt/anaconda3/envs/predictive_maintenance/lib/python3.9/site-packages/redshift_connector/core.py:585\u001B[0m, in \u001B[0;36mConnection.__init__\u001B[0;34m(self, user, password, database, host, port, source_address, unix_sock, ssl, sslmode, timeout, max_prepared_statements, tcp_keepalive, application_name, replication, client_protocol_version, database_metadata_current_db_only, credentials_provider, provider_name, web_identity_token, numeric_to_float)\u001B[0m\n\u001B[1;32m    584\u001B[0m \u001B[38;5;28;01mif\u001B[39;00m unix_sock \u001B[38;5;129;01mis\u001B[39;00m \u001B[38;5;28;01mNone\u001B[39;00m \u001B[38;5;129;01mand\u001B[39;00m host \u001B[38;5;129;01mis\u001B[39;00m \u001B[38;5;129;01mnot\u001B[39;00m \u001B[38;5;28;01mNone\u001B[39;00m:\n\u001B[0;32m--> 585\u001B[0m     \u001B[38;5;28;43mself\u001B[39;49m\u001B[38;5;241;43m.\u001B[39;49m\u001B[43m_usock\u001B[49m\u001B[38;5;241;43m.\u001B[39;49m\u001B[43mconnect\u001B[49m\u001B[43m(\u001B[49m\u001B[43m(\u001B[49m\u001B[43mhost\u001B[49m\u001B[43m,\u001B[49m\u001B[43m \u001B[49m\u001B[43mport\u001B[49m\u001B[43m)\u001B[49m\u001B[43m)\u001B[49m\n\u001B[1;32m    586\u001B[0m \u001B[38;5;28;01melif\u001B[39;00m unix_sock \u001B[38;5;129;01mis\u001B[39;00m \u001B[38;5;129;01mnot\u001B[39;00m \u001B[38;5;28;01mNone\u001B[39;00m:\n",
      "\u001B[0;31mTimeoutError\u001B[0m: [Errno 60] Operation timed out",
      "\nDuring handling of the above exception, another exception occurred:\n",
      "\u001B[0;31mInterfaceError\u001B[0m                            Traceback (most recent call last)",
      "Cell \u001B[0;32mIn[4], line 1\u001B[0m\n\u001B[0;32m----> 1\u001B[0m conn \u001B[38;5;241m=\u001B[39m \u001B[43mredshift_connector\u001B[49m\u001B[38;5;241;43m.\u001B[39;49m\u001B[43mconnect\u001B[49m\u001B[43m(\u001B[49m\n\u001B[1;32m      2\u001B[0m \u001B[43m    \u001B[49m\u001B[43mhost\u001B[49m\u001B[43m     \u001B[49m\u001B[38;5;241;43m=\u001B[39;49m\u001B[43m \u001B[49m\u001B[38;5;124;43m'\u001B[39;49m\u001B[38;5;124;43m10.35.11.11\u001B[39;49m\u001B[38;5;124;43m'\u001B[39;49m\u001B[43m,\u001B[49m\n\u001B[1;32m      3\u001B[0m \u001B[43m    \u001B[49m\u001B[43mdatabase\u001B[49m\u001B[43m \u001B[49m\u001B[38;5;241;43m=\u001B[39;49m\u001B[43m \u001B[49m\u001B[38;5;124;43m'\u001B[39;49m\u001B[38;5;124;43mmitrphol_prod\u001B[39;49m\u001B[38;5;124;43m'\u001B[39;49m\u001B[43m,\u001B[49m\n\u001B[1;32m      4\u001B[0m \u001B[43m    \u001B[49m\u001B[43muser\u001B[49m\u001B[43m     \u001B[49m\u001B[38;5;241;43m=\u001B[39;49m\u001B[43m \u001B[49m\u001B[38;5;124;43m'\u001B[39;49m\u001B[38;5;124;43msmart_factory\u001B[39;49m\u001B[38;5;124;43m'\u001B[39;49m\u001B[43m,\u001B[49m\n\u001B[1;32m      5\u001B[0m \u001B[43m    \u001B[49m\u001B[43mpassword\u001B[49m\u001B[43m \u001B[49m\u001B[38;5;241;43m=\u001B[39;49m\u001B[43m \u001B[49m\u001B[38;5;124;43m'\u001B[39;49m\u001B[38;5;124;43mmpgfac@DX2022\u001B[39;49m\u001B[38;5;124;43m'\u001B[39;49m\n\u001B[1;32m      6\u001B[0m \u001B[43m)\u001B[49m\n\u001B[1;32m      7\u001B[0m cursor: redshift_connector\u001B[38;5;241m.\u001B[39mCursor \u001B[38;5;241m=\u001B[39m conn\u001B[38;5;241m.\u001B[39mcursor()\n\u001B[1;32m      8\u001B[0m cursor\u001B[38;5;241m.\u001B[39mexecute(\u001B[38;5;124m\"\u001B[39m\u001B[38;5;124mselect * from mitrphol_prod.smart_factory.shredder_dim_taginfo where factory=\u001B[39m\u001B[38;5;124m'\u001B[39m\u001B[38;5;124mMAC\u001B[39m\u001B[38;5;124m'\u001B[39m\u001B[38;5;124m \u001B[39m\u001B[38;5;124m\"\u001B[39m)\n",
      "File \u001B[0;32m~/opt/anaconda3/envs/predictive_maintenance/lib/python3.9/site-packages/redshift_connector/__init__.py:340\u001B[0m, in \u001B[0;36mconnect\u001B[0;34m(user, database, password, port, host, source_address, unix_sock, ssl, sslmode, timeout, max_prepared_statements, tcp_keepalive, application_name, replication, idp_host, db_user, app_id, app_name, preferred_role, principal_arn, access_key_id, secret_access_key, session_token, profile, credentials_provider, region, cluster_identifier, iam, client_id, idp_tenant, client_secret, partner_sp_id, idp_response_timeout, listen_port, login_url, auto_create, db_groups, force_lowercase, allow_db_user_override, client_protocol_version, database_metadata_current_db_only, ssl_insecure, web_identity_token, role_session_name, role_arn, iam_disable_cache, auth_profile, endpoint_url, provider_name, scope, numeric_to_float, is_serverless, serverless_acct_id, serverless_work_group, group_federation)\u001B[0m\n\u001B[1;32m    337\u001B[0m _logger\u001B[38;5;241m.\u001B[39mdebug(mask_secure_info_in_props(info)\u001B[38;5;241m.\u001B[39m\u001B[38;5;21m__str__\u001B[39m())\n\u001B[1;32m    338\u001B[0m _logger\u001B[38;5;241m.\u001B[39mdebug(make_divider_block())\n\u001B[0;32m--> 340\u001B[0m \u001B[38;5;28;01mreturn\u001B[39;00m \u001B[43mConnection\u001B[49m\u001B[43m(\u001B[49m\n\u001B[1;32m    341\u001B[0m \u001B[43m    \u001B[49m\u001B[43muser\u001B[49m\u001B[38;5;241;43m=\u001B[39;49m\u001B[43minfo\u001B[49m\u001B[38;5;241;43m.\u001B[39;49m\u001B[43muser_name\u001B[49m\u001B[43m,\u001B[49m\n\u001B[1;32m    342\u001B[0m \u001B[43m    \u001B[49m\u001B[43mhost\u001B[49m\u001B[38;5;241;43m=\u001B[39;49m\u001B[43minfo\u001B[49m\u001B[38;5;241;43m.\u001B[39;49m\u001B[43mhost\u001B[49m\u001B[43m,\u001B[49m\n\u001B[1;32m    343\u001B[0m \u001B[43m    \u001B[49m\u001B[43mdatabase\u001B[49m\u001B[38;5;241;43m=\u001B[39;49m\u001B[43minfo\u001B[49m\u001B[38;5;241;43m.\u001B[39;49m\u001B[43mdb_name\u001B[49m\u001B[43m,\u001B[49m\n\u001B[1;32m    344\u001B[0m \u001B[43m    \u001B[49m\u001B[43mport\u001B[49m\u001B[38;5;241;43m=\u001B[39;49m\u001B[43minfo\u001B[49m\u001B[38;5;241;43m.\u001B[39;49m\u001B[43mport\u001B[49m\u001B[43m,\u001B[49m\n\u001B[1;32m    345\u001B[0m \u001B[43m    \u001B[49m\u001B[43mpassword\u001B[49m\u001B[38;5;241;43m=\u001B[39;49m\u001B[43minfo\u001B[49m\u001B[38;5;241;43m.\u001B[39;49m\u001B[43mpassword\u001B[49m\u001B[43m,\u001B[49m\n\u001B[1;32m    346\u001B[0m \u001B[43m    \u001B[49m\u001B[43msource_address\u001B[49m\u001B[38;5;241;43m=\u001B[39;49m\u001B[43minfo\u001B[49m\u001B[38;5;241;43m.\u001B[39;49m\u001B[43msource_address\u001B[49m\u001B[43m,\u001B[49m\n\u001B[1;32m    347\u001B[0m \u001B[43m    \u001B[49m\u001B[43munix_sock\u001B[49m\u001B[38;5;241;43m=\u001B[39;49m\u001B[43minfo\u001B[49m\u001B[38;5;241;43m.\u001B[39;49m\u001B[43munix_sock\u001B[49m\u001B[43m,\u001B[49m\n\u001B[1;32m    348\u001B[0m \u001B[43m    \u001B[49m\u001B[43mssl\u001B[49m\u001B[38;5;241;43m=\u001B[39;49m\u001B[43minfo\u001B[49m\u001B[38;5;241;43m.\u001B[39;49m\u001B[43mssl\u001B[49m\u001B[43m,\u001B[49m\n\u001B[1;32m    349\u001B[0m \u001B[43m    \u001B[49m\u001B[43msslmode\u001B[49m\u001B[38;5;241;43m=\u001B[39;49m\u001B[43minfo\u001B[49m\u001B[38;5;241;43m.\u001B[39;49m\u001B[43msslmode\u001B[49m\u001B[43m,\u001B[49m\n\u001B[1;32m    350\u001B[0m \u001B[43m    \u001B[49m\u001B[43mtimeout\u001B[49m\u001B[38;5;241;43m=\u001B[39;49m\u001B[43minfo\u001B[49m\u001B[38;5;241;43m.\u001B[39;49m\u001B[43mtimeout\u001B[49m\u001B[43m,\u001B[49m\n\u001B[1;32m    351\u001B[0m \u001B[43m    \u001B[49m\u001B[43mmax_prepared_statements\u001B[49m\u001B[38;5;241;43m=\u001B[39;49m\u001B[43minfo\u001B[49m\u001B[38;5;241;43m.\u001B[39;49m\u001B[43mmax_prepared_statements\u001B[49m\u001B[43m,\u001B[49m\n\u001B[1;32m    352\u001B[0m \u001B[43m    \u001B[49m\u001B[43mtcp_keepalive\u001B[49m\u001B[38;5;241;43m=\u001B[39;49m\u001B[43minfo\u001B[49m\u001B[38;5;241;43m.\u001B[39;49m\u001B[43mtcp_keepalive\u001B[49m\u001B[43m,\u001B[49m\n\u001B[1;32m    353\u001B[0m \u001B[43m    \u001B[49m\u001B[43mapplication_name\u001B[49m\u001B[38;5;241;43m=\u001B[39;49m\u001B[43minfo\u001B[49m\u001B[38;5;241;43m.\u001B[39;49m\u001B[43mapplication_name\u001B[49m\u001B[43m,\u001B[49m\n\u001B[1;32m    354\u001B[0m \u001B[43m    \u001B[49m\u001B[43mreplication\u001B[49m\u001B[38;5;241;43m=\u001B[39;49m\u001B[43minfo\u001B[49m\u001B[38;5;241;43m.\u001B[39;49m\u001B[43mreplication\u001B[49m\u001B[43m,\u001B[49m\n\u001B[1;32m    355\u001B[0m \u001B[43m    \u001B[49m\u001B[43mclient_protocol_version\u001B[49m\u001B[38;5;241;43m=\u001B[39;49m\u001B[43minfo\u001B[49m\u001B[38;5;241;43m.\u001B[39;49m\u001B[43mclient_protocol_version\u001B[49m\u001B[43m,\u001B[49m\n\u001B[1;32m    356\u001B[0m \u001B[43m    \u001B[49m\u001B[43mdatabase_metadata_current_db_only\u001B[49m\u001B[38;5;241;43m=\u001B[39;49m\u001B[43minfo\u001B[49m\u001B[38;5;241;43m.\u001B[39;49m\u001B[43mdatabase_metadata_current_db_only\u001B[49m\u001B[43m,\u001B[49m\n\u001B[1;32m    357\u001B[0m \u001B[43m    \u001B[49m\u001B[43mcredentials_provider\u001B[49m\u001B[38;5;241;43m=\u001B[39;49m\u001B[43minfo\u001B[49m\u001B[38;5;241;43m.\u001B[39;49m\u001B[43mcredentials_provider\u001B[49m\u001B[43m,\u001B[49m\n\u001B[1;32m    358\u001B[0m \u001B[43m    \u001B[49m\u001B[43mprovider_name\u001B[49m\u001B[38;5;241;43m=\u001B[39;49m\u001B[43minfo\u001B[49m\u001B[38;5;241;43m.\u001B[39;49m\u001B[43mprovider_name\u001B[49m\u001B[43m,\u001B[49m\n\u001B[1;32m    359\u001B[0m \u001B[43m    \u001B[49m\u001B[43mweb_identity_token\u001B[49m\u001B[38;5;241;43m=\u001B[39;49m\u001B[43minfo\u001B[49m\u001B[38;5;241;43m.\u001B[39;49m\u001B[43mweb_identity_token\u001B[49m\u001B[43m,\u001B[49m\n\u001B[1;32m    360\u001B[0m \u001B[43m    \u001B[49m\u001B[43mnumeric_to_float\u001B[49m\u001B[38;5;241;43m=\u001B[39;49m\u001B[43minfo\u001B[49m\u001B[38;5;241;43m.\u001B[39;49m\u001B[43mnumeric_to_float\u001B[49m\u001B[43m,\u001B[49m\n\u001B[1;32m    361\u001B[0m \u001B[43m\u001B[49m\u001B[43m)\u001B[49m\n",
      "File \u001B[0;32m~/opt/anaconda3/envs/predictive_maintenance/lib/python3.9/site-packages/redshift_connector/core.py:632\u001B[0m, in \u001B[0;36mConnection.__init__\u001B[0;34m(self, user, password, database, host, port, source_address, unix_sock, ssl, sslmode, timeout, max_prepared_statements, tcp_keepalive, application_name, replication, client_protocol_version, database_metadata_current_db_only, credentials_provider, provider_name, web_identity_token, numeric_to_float)\u001B[0m\n\u001B[1;32m    630\u001B[0m \u001B[38;5;28;01mexcept\u001B[39;00m socket\u001B[38;5;241m.\u001B[39merror \u001B[38;5;28;01mas\u001B[39;00m e:\n\u001B[1;32m    631\u001B[0m     \u001B[38;5;28mself\u001B[39m\u001B[38;5;241m.\u001B[39m_usock\u001B[38;5;241m.\u001B[39mclose()\n\u001B[0;32m--> 632\u001B[0m     \u001B[38;5;28;01mraise\u001B[39;00m InterfaceError(\u001B[38;5;124m\"\u001B[39m\u001B[38;5;124mcommunication error\u001B[39m\u001B[38;5;124m\"\u001B[39m, e)\n\u001B[1;32m    633\u001B[0m \u001B[38;5;28mself\u001B[39m\u001B[38;5;241m.\u001B[39m_flush: typing\u001B[38;5;241m.\u001B[39mCallable \u001B[38;5;241m=\u001B[39m \u001B[38;5;28mself\u001B[39m\u001B[38;5;241m.\u001B[39m_sock\u001B[38;5;241m.\u001B[39mflush\n\u001B[1;32m    634\u001B[0m \u001B[38;5;28mself\u001B[39m\u001B[38;5;241m.\u001B[39m_read: typing\u001B[38;5;241m.\u001B[39mCallable \u001B[38;5;241m=\u001B[39m \u001B[38;5;28mself\u001B[39m\u001B[38;5;241m.\u001B[39m_sock\u001B[38;5;241m.\u001B[39mread\n",
      "\u001B[0;31mInterfaceError\u001B[0m: ('communication error', TimeoutError(60, 'Operation timed out'))"
     ]
    }
   ],
   "source": [
    "conn = redshift_connector.connect(\n",
    "    host     = '10.35.11.11',\n",
    "    database = 'mitrphol_prod',\n",
    "    user     = 'smart_factory',\n",
    "    password = 'mpgfac@DX2022'\n",
    ")\n",
    "cursor: redshift_connector.Cursor = conn.cursor()\n",
    "cursor.execute(\"select * from mitrphol_prod.smart_factory.shredder_dim_taginfo where factory='MAC' \")\n",
    "df_taginfo: pd.DataFrame = cursor.fetch_dataframe()\n",
    "\n",
    "# cursor.execute(\"select * from mitrphol_prod.smart_factory.shredder_fact_pidata_mac\")\n",
    "# df_data: pd.DataFrame = cursor.fetch_dataframe()"
   ],
   "metadata": {
    "collapsed": false
   }
  },
  {
   "cell_type": "code",
   "execution_count": null,
   "outputs": [],
   "source": [
    "df_taginfo.head()"
   ],
   "metadata": {
    "collapsed": false
   }
  },
  {
   "cell_type": "code",
   "execution_count": 27,
   "outputs": [],
   "source": [
    "cursor.execute(\"SELECT * FROM mitrphol_prod.smart_factory.shredder_fact_pidata_mac\")\n",
    "df_data: pd.DataFrame = cursor.fetch_dataframe()"
   ],
   "metadata": {
    "collapsed": false
   }
  },
  {
   "cell_type": "code",
   "execution_count": 29,
   "outputs": [
    {
     "data": {
      "text/plain": "   id                  ts           tag001_ts  tag001_val           tag002_ts  \\\n0   1 2022-12-22 16:01:04 2022-12-22 16:01:00  3.88036919 2022-12-22 15:55:00   \n1   6 2022-12-22 16:11:35 2022-12-22 16:11:00  3.27519655 2022-12-22 16:05:00   \n2  11 2022-12-22 16:16:31 2022-12-22 16:13:00    3.742733 2022-12-22 16:05:00   \n3  14 2022-12-22 16:19:44 2022-12-22 16:18:59    3.567254 2022-12-22 16:16:49   \n4  20 2022-12-22 16:25:44 2022-12-22 16:24:59  3.16838336 2022-12-22 16:16:49   \n\n   tag002_val           tag003_ts  tag003_val           tag004_ts tag004_val  \\\n0  4.68390942 2022-12-22 15:56:00  33.1094055 2022-12-22 16:00:00   97.21065   \n1  4.70618773 2022-12-22 16:07:00  33.1094055 2022-12-22 16:04:00   97.09926   \n2  4.70618773 2022-12-22 16:07:00  33.1094055 2022-12-22 16:04:00   97.09926   \n3  4.66712427 2022-12-22 16:16:49  33.1366463 2022-12-22 16:16:49   97.24574   \n4  4.66712427 2022-12-22 16:24:59  33.0827026 2022-12-22 16:24:59   97.13435   \n\n   ...           tag026_ts  tag026_val tag027_ts tag027_val tag028_ts  \\\n0  ... 2022-12-22 15:53:00     6560.39      None       None      None   \n1  ... 2022-12-22 16:04:00  6540.54443      None       None      None   \n2  ... 2022-12-22 16:04:00  6540.54443      None       None      None   \n3  ... 2022-12-22 16:16:49    6587.795      None       None      None   \n4  ... 2022-12-22 16:16:49    6587.795      None       None      None   \n\n  tag028_val tag029_ts tag029_val tag030_ts tag030_val  \n0       None      None       None      None       None  \n1       None      None       None      None       None  \n2       None      None       None      None       None  \n3       None      None       None      None       None  \n4       None      None       None      None       None  \n\n[5 rows x 62 columns]",
      "text/html": "<div>\n<style scoped>\n    .dataframe tbody tr th:only-of-type {\n        vertical-align: middle;\n    }\n\n    .dataframe tbody tr th {\n        vertical-align: top;\n    }\n\n    .dataframe thead th {\n        text-align: right;\n    }\n</style>\n<table border=\"1\" class=\"dataframe\">\n  <thead>\n    <tr style=\"text-align: right;\">\n      <th></th>\n      <th>id</th>\n      <th>ts</th>\n      <th>tag001_ts</th>\n      <th>tag001_val</th>\n      <th>tag002_ts</th>\n      <th>tag002_val</th>\n      <th>tag003_ts</th>\n      <th>tag003_val</th>\n      <th>tag004_ts</th>\n      <th>tag004_val</th>\n      <th>...</th>\n      <th>tag026_ts</th>\n      <th>tag026_val</th>\n      <th>tag027_ts</th>\n      <th>tag027_val</th>\n      <th>tag028_ts</th>\n      <th>tag028_val</th>\n      <th>tag029_ts</th>\n      <th>tag029_val</th>\n      <th>tag030_ts</th>\n      <th>tag030_val</th>\n    </tr>\n  </thead>\n  <tbody>\n    <tr>\n      <th>0</th>\n      <td>1</td>\n      <td>2022-12-22 16:01:04</td>\n      <td>2022-12-22 16:01:00</td>\n      <td>3.88036919</td>\n      <td>2022-12-22 15:55:00</td>\n      <td>4.68390942</td>\n      <td>2022-12-22 15:56:00</td>\n      <td>33.1094055</td>\n      <td>2022-12-22 16:00:00</td>\n      <td>97.21065</td>\n      <td>...</td>\n      <td>2022-12-22 15:53:00</td>\n      <td>6560.39</td>\n      <td>None</td>\n      <td>None</td>\n      <td>None</td>\n      <td>None</td>\n      <td>None</td>\n      <td>None</td>\n      <td>None</td>\n      <td>None</td>\n    </tr>\n    <tr>\n      <th>1</th>\n      <td>6</td>\n      <td>2022-12-22 16:11:35</td>\n      <td>2022-12-22 16:11:00</td>\n      <td>3.27519655</td>\n      <td>2022-12-22 16:05:00</td>\n      <td>4.70618773</td>\n      <td>2022-12-22 16:07:00</td>\n      <td>33.1094055</td>\n      <td>2022-12-22 16:04:00</td>\n      <td>97.09926</td>\n      <td>...</td>\n      <td>2022-12-22 16:04:00</td>\n      <td>6540.54443</td>\n      <td>None</td>\n      <td>None</td>\n      <td>None</td>\n      <td>None</td>\n      <td>None</td>\n      <td>None</td>\n      <td>None</td>\n      <td>None</td>\n    </tr>\n    <tr>\n      <th>2</th>\n      <td>11</td>\n      <td>2022-12-22 16:16:31</td>\n      <td>2022-12-22 16:13:00</td>\n      <td>3.742733</td>\n      <td>2022-12-22 16:05:00</td>\n      <td>4.70618773</td>\n      <td>2022-12-22 16:07:00</td>\n      <td>33.1094055</td>\n      <td>2022-12-22 16:04:00</td>\n      <td>97.09926</td>\n      <td>...</td>\n      <td>2022-12-22 16:04:00</td>\n      <td>6540.54443</td>\n      <td>None</td>\n      <td>None</td>\n      <td>None</td>\n      <td>None</td>\n      <td>None</td>\n      <td>None</td>\n      <td>None</td>\n      <td>None</td>\n    </tr>\n    <tr>\n      <th>3</th>\n      <td>14</td>\n      <td>2022-12-22 16:19:44</td>\n      <td>2022-12-22 16:18:59</td>\n      <td>3.567254</td>\n      <td>2022-12-22 16:16:49</td>\n      <td>4.66712427</td>\n      <td>2022-12-22 16:16:49</td>\n      <td>33.1366463</td>\n      <td>2022-12-22 16:16:49</td>\n      <td>97.24574</td>\n      <td>...</td>\n      <td>2022-12-22 16:16:49</td>\n      <td>6587.795</td>\n      <td>None</td>\n      <td>None</td>\n      <td>None</td>\n      <td>None</td>\n      <td>None</td>\n      <td>None</td>\n      <td>None</td>\n      <td>None</td>\n    </tr>\n    <tr>\n      <th>4</th>\n      <td>20</td>\n      <td>2022-12-22 16:25:44</td>\n      <td>2022-12-22 16:24:59</td>\n      <td>3.16838336</td>\n      <td>2022-12-22 16:16:49</td>\n      <td>4.66712427</td>\n      <td>2022-12-22 16:24:59</td>\n      <td>33.0827026</td>\n      <td>2022-12-22 16:24:59</td>\n      <td>97.13435</td>\n      <td>...</td>\n      <td>2022-12-22 16:16:49</td>\n      <td>6587.795</td>\n      <td>None</td>\n      <td>None</td>\n      <td>None</td>\n      <td>None</td>\n      <td>None</td>\n      <td>None</td>\n      <td>None</td>\n      <td>None</td>\n    </tr>\n  </tbody>\n</table>\n<p>5 rows × 62 columns</p>\n</div>"
     },
     "execution_count": 29,
     "metadata": {},
     "output_type": "execute_result"
    }
   ],
   "source": [
    "df_data.head()"
   ],
   "metadata": {
    "collapsed": false
   }
  },
  {
   "cell_type": "code",
   "execution_count": 30,
   "outputs": [],
   "source": [
    "cursor.execute(\"SELECT * FROM mitrphol_prod.smart_factory.shredder_fact_prediction_mac\")\n",
    "predict_mac: pd.DataFrame = cursor.fetch_dataframe()"
   ],
   "metadata": {
    "collapsed": false
   }
  },
  {
   "cell_type": "code",
   "execution_count": 32,
   "outputs": [
    {
     "data": {
      "text/plain": "   id                  ts     pred_val\n0   3 2023-01-05 14:38:30  0.385742247\n1   8 2023-01-05 14:46:14  0.367724955\n2  12 2023-01-05 14:50:10  0.358856112\n3  13 2023-01-05 14:51:10  0.356928825\n4  17 2023-01-05 14:55:10  0.382198095",
      "text/html": "<div>\n<style scoped>\n    .dataframe tbody tr th:only-of-type {\n        vertical-align: middle;\n    }\n\n    .dataframe tbody tr th {\n        vertical-align: top;\n    }\n\n    .dataframe thead th {\n        text-align: right;\n    }\n</style>\n<table border=\"1\" class=\"dataframe\">\n  <thead>\n    <tr style=\"text-align: right;\">\n      <th></th>\n      <th>id</th>\n      <th>ts</th>\n      <th>pred_val</th>\n    </tr>\n  </thead>\n  <tbody>\n    <tr>\n      <th>0</th>\n      <td>3</td>\n      <td>2023-01-05 14:38:30</td>\n      <td>0.385742247</td>\n    </tr>\n    <tr>\n      <th>1</th>\n      <td>8</td>\n      <td>2023-01-05 14:46:14</td>\n      <td>0.367724955</td>\n    </tr>\n    <tr>\n      <th>2</th>\n      <td>12</td>\n      <td>2023-01-05 14:50:10</td>\n      <td>0.358856112</td>\n    </tr>\n    <tr>\n      <th>3</th>\n      <td>13</td>\n      <td>2023-01-05 14:51:10</td>\n      <td>0.356928825</td>\n    </tr>\n    <tr>\n      <th>4</th>\n      <td>17</td>\n      <td>2023-01-05 14:55:10</td>\n      <td>0.382198095</td>\n    </tr>\n  </tbody>\n</table>\n</div>"
     },
     "execution_count": 32,
     "metadata": {},
     "output_type": "execute_result"
    }
   ],
   "source": [
    "predict_mac.head()"
   ],
   "metadata": {
    "collapsed": false
   }
  },
  {
   "cell_type": "code",
   "execution_count": null,
   "outputs": [],
   "source": [],
   "metadata": {
    "collapsed": false
   }
  }
 ],
 "metadata": {
  "kernelspec": {
   "display_name": "Python 3",
   "language": "python",
   "name": "python3"
  },
  "language_info": {
   "codemirror_mode": {
    "name": "ipython",
    "version": 2
   },
   "file_extension": ".py",
   "mimetype": "text/x-python",
   "name": "python",
   "nbconvert_exporter": "python",
   "pygments_lexer": "ipython2",
   "version": "2.7.6"
  }
 },
 "nbformat": 4,
 "nbformat_minor": 0
}
