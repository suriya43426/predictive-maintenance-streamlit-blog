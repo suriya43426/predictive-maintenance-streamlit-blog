{
 "cells": [
  {
   "cell_type": "code",
   "execution_count": 1,
   "metadata": {
    "collapsed": true
   },
   "outputs": [],
   "source": [
    "import pandas as pd"
   ]
  },
  {
   "cell_type": "code",
   "execution_count": null,
   "outputs": [],
   "source": [
    "dict_for_rename = {}\n",
    "\n",
    "for index, row in df_taginfo.iterrows():\n",
    "    columnname = row['columnname']\n",
    "    tagname    = row['name']\n",
    "    descriptor = row['descriptor'].replace(\" \", \"\").replace(\"-\", \"\").replace(\".\", \"\")\n",
    "\n",
    "    dict_for_rename[f\"{columnname}_val\"] = f\"{tagname}_{descriptor}\"\n",
    "#     print(columnname, tagname, descriptor)\n",
    "dict_for_rename"
   ],
   "metadata": {
    "collapsed": false
   }
  }
 ],
 "metadata": {
  "kernelspec": {
   "display_name": "Python 3",
   "language": "python",
   "name": "python3"
  },
  "language_info": {
   "codemirror_mode": {
    "name": "ipython",
    "version": 2
   },
   "file_extension": ".py",
   "mimetype": "text/x-python",
   "name": "python",
   "nbconvert_exporter": "python",
   "pygments_lexer": "ipython2",
   "version": "2.7.6"
  }
 },
 "nbformat": 4,
 "nbformat_minor": 0
}
