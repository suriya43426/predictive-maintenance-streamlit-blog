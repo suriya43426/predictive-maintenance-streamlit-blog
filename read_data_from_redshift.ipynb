{
 "cells": [
  {
   "cell_type": "code",
   "execution_count": 1,
   "metadata": {
    "collapsed": true
   },
   "outputs": [
    {
     "name": "stdout",
     "output_type": "stream",
     "text": [
      "Collecting redshift-connector\r\n",
      "  Downloading redshift_connector-2.0.910-py3-none-any.whl (112 kB)\r\n",
      "\u001B[2K     \u001B[90m━━━━━━━━━━━━━━━━━━━━━━━━━━━━━━━━━━━━━━━\u001B[0m \u001B[32m112.1/112.1 kB\u001B[0m \u001B[31m1.4 MB/s\u001B[0m eta \u001B[36m0:00:00\u001B[0ma \u001B[36m0:00:01\u001B[0m\r\n",
      "\u001B[?25hCollecting boto3<2.0.0,>=1.9.201\r\n",
      "  Downloading boto3-1.26.58-py3-none-any.whl (132 kB)\r\n",
      "\u001B[2K     \u001B[90m━━━━━━━━━━━━━━━━━━━━━━━━━━━━━━━━━━━━━━━\u001B[0m \u001B[32m132.7/132.7 kB\u001B[0m \u001B[31m4.7 MB/s\u001B[0m eta \u001B[36m0:00:00\u001B[0m\r\n",
      "\u001B[?25hCollecting scramp<1.5.0,>=1.2.0\r\n",
      "  Downloading scramp-1.4.4-py3-none-any.whl (13 kB)\r\n",
      "Requirement already satisfied: setuptools in /Users/suriyaohmchayatummagoone/opt/anaconda3/envs/predictive_maintenance/lib/python3.9/site-packages (from redshift-connector) (65.6.3)\r\n",
      "Requirement already satisfied: lxml>=4.6.5 in /Users/suriyaohmchayatummagoone/opt/anaconda3/envs/predictive_maintenance/lib/python3.9/site-packages (from redshift-connector) (4.9.1)\r\n",
      "Requirement already satisfied: packaging in /Users/suriyaohmchayatummagoone/opt/anaconda3/envs/predictive_maintenance/lib/python3.9/site-packages (from redshift-connector) (22.0)\r\n",
      "Requirement already satisfied: beautifulsoup4<5.0.0,>=4.7.0 in /Users/suriyaohmchayatummagoone/opt/anaconda3/envs/predictive_maintenance/lib/python3.9/site-packages (from redshift-connector) (4.11.1)\r\n",
      "Collecting botocore<2.0.0,>=1.12.201\r\n",
      "  Downloading botocore-1.29.58-py3-none-any.whl (10.4 MB)\r\n",
      "\u001B[2K     \u001B[90m━━━━━━━━━━━━━━━━━━━━━━━━━━━━━━━━━━━━━━━━\u001B[0m \u001B[32m10.4/10.4 MB\u001B[0m \u001B[31m7.5 MB/s\u001B[0m eta \u001B[36m0:00:00\u001B[0m00:01\u001B[0m0:01\u001B[0m\r\n",
      "\u001B[?25hRequirement already satisfied: requests<3.0.0,>=2.23.0 in /Users/suriyaohmchayatummagoone/opt/anaconda3/envs/predictive_maintenance/lib/python3.9/site-packages (from redshift-connector) (2.28.1)\r\n",
      "Requirement already satisfied: pytz>=2020.1 in /Users/suriyaohmchayatummagoone/opt/anaconda3/envs/predictive_maintenance/lib/python3.9/site-packages (from redshift-connector) (2022.7)\r\n",
      "Requirement already satisfied: soupsieve>1.2 in /Users/suriyaohmchayatummagoone/opt/anaconda3/envs/predictive_maintenance/lib/python3.9/site-packages (from beautifulsoup4<5.0.0,>=4.7.0->redshift-connector) (2.3.2.post1)\r\n",
      "Collecting s3transfer<0.7.0,>=0.6.0\r\n",
      "  Downloading s3transfer-0.6.0-py3-none-any.whl (79 kB)\r\n",
      "\u001B[2K     \u001B[90m━━━━━━━━━━━━━━━━━━━━━━━━━━━━━━━━━━━━━━━━\u001B[0m \u001B[32m79.6/79.6 kB\u001B[0m \u001B[31m4.6 MB/s\u001B[0m eta \u001B[36m0:00:00\u001B[0m\r\n",
      "\u001B[?25hCollecting jmespath<2.0.0,>=0.7.1\r\n",
      "  Downloading jmespath-1.0.1-py3-none-any.whl (20 kB)\r\n",
      "Requirement already satisfied: python-dateutil<3.0.0,>=2.1 in /Users/suriyaohmchayatummagoone/opt/anaconda3/envs/predictive_maintenance/lib/python3.9/site-packages (from botocore<2.0.0,>=1.12.201->redshift-connector) (2.8.2)\r\n",
      "Requirement already satisfied: urllib3<1.27,>=1.25.4 in /Users/suriyaohmchayatummagoone/opt/anaconda3/envs/predictive_maintenance/lib/python3.9/site-packages (from botocore<2.0.0,>=1.12.201->redshift-connector) (1.26.14)\r\n",
      "Requirement already satisfied: certifi>=2017.4.17 in /Users/suriyaohmchayatummagoone/opt/anaconda3/envs/predictive_maintenance/lib/python3.9/site-packages (from requests<3.0.0,>=2.23.0->redshift-connector) (2022.12.7)\r\n",
      "Requirement already satisfied: idna<4,>=2.5 in /Users/suriyaohmchayatummagoone/opt/anaconda3/envs/predictive_maintenance/lib/python3.9/site-packages (from requests<3.0.0,>=2.23.0->redshift-connector) (3.4)\r\n",
      "Requirement already satisfied: charset-normalizer<3,>=2 in /Users/suriyaohmchayatummagoone/opt/anaconda3/envs/predictive_maintenance/lib/python3.9/site-packages (from requests<3.0.0,>=2.23.0->redshift-connector) (2.0.4)\r\n",
      "Collecting asn1crypto>=1.5.1\r\n",
      "  Downloading asn1crypto-1.5.1-py2.py3-none-any.whl (105 kB)\r\n",
      "\u001B[2K     \u001B[90m━━━━━━━━━━━━━━━━━━━━━━━━━━━━━━━━━━━━━━━\u001B[0m \u001B[32m105.0/105.0 kB\u001B[0m \u001B[31m5.5 MB/s\u001B[0m eta \u001B[36m0:00:00\u001B[0m\r\n",
      "\u001B[?25hRequirement already satisfied: six>=1.5 in /Users/suriyaohmchayatummagoone/opt/anaconda3/envs/predictive_maintenance/lib/python3.9/site-packages (from python-dateutil<3.0.0,>=2.1->botocore<2.0.0,>=1.12.201->redshift-connector) (1.16.0)\r\n",
      "Installing collected packages: asn1crypto, scramp, jmespath, botocore, s3transfer, boto3, redshift-connector\r\n",
      "Successfully installed asn1crypto-1.5.1 boto3-1.26.58 botocore-1.29.58 jmespath-1.0.1 redshift-connector-2.0.910 s3transfer-0.6.0 scramp-1.4.4\r\n"
     ]
    }
   ],
   "source": [
    "# !pip install redshift-connector"
   ]
  },
  {
   "cell_type": "code",
   "execution_count": 2,
   "outputs": [
    {
     "name": "stdout",
     "output_type": "stream",
     "text": [
      "Requirement already satisfied: boto3 in /Users/suriyaohmchayatummagoone/opt/anaconda3/envs/predictive_maintenance/lib/python3.9/site-packages (1.26.58)\r\n",
      "Requirement already satisfied: jmespath<2.0.0,>=0.7.1 in /Users/suriyaohmchayatummagoone/opt/anaconda3/envs/predictive_maintenance/lib/python3.9/site-packages (from boto3) (1.0.1)\r\n",
      "Requirement already satisfied: s3transfer<0.7.0,>=0.6.0 in /Users/suriyaohmchayatummagoone/opt/anaconda3/envs/predictive_maintenance/lib/python3.9/site-packages (from boto3) (0.6.0)\r\n",
      "Requirement already satisfied: botocore<1.30.0,>=1.29.58 in /Users/suriyaohmchayatummagoone/opt/anaconda3/envs/predictive_maintenance/lib/python3.9/site-packages (from boto3) (1.29.58)\r\n",
      "Requirement already satisfied: python-dateutil<3.0.0,>=2.1 in /Users/suriyaohmchayatummagoone/opt/anaconda3/envs/predictive_maintenance/lib/python3.9/site-packages (from botocore<1.30.0,>=1.29.58->boto3) (2.8.2)\r\n",
      "Requirement already satisfied: urllib3<1.27,>=1.25.4 in /Users/suriyaohmchayatummagoone/opt/anaconda3/envs/predictive_maintenance/lib/python3.9/site-packages (from botocore<1.30.0,>=1.29.58->boto3) (1.26.14)\r\n",
      "Requirement already satisfied: six>=1.5 in /Users/suriyaohmchayatummagoone/opt/anaconda3/envs/predictive_maintenance/lib/python3.9/site-packages (from python-dateutil<3.0.0,>=2.1->botocore<1.30.0,>=1.29.58->boto3) (1.16.0)\r\n"
     ]
    }
   ],
   "source": [
    "# !pip install boto3"
   ],
   "metadata": {
    "collapsed": false
   }
  },
  {
   "cell_type": "code",
   "execution_count": 1,
   "outputs": [],
   "source": [
    "import boto3\n",
    "import json\n",
    "import pandas as pd\n",
    "import redshift_connector"
   ],
   "metadata": {
    "collapsed": false
   }
  },
  {
   "cell_type": "code",
   "execution_count": 34,
   "outputs": [],
   "source": [
    "conn = redshift_connector.connect(\n",
    "    host     = '10.35.11.11',\n",
    "    database = 'mitrphol_prod',\n",
    "    user     = 'smart_factory',\n",
    "    password = 'mpgfac@DX2022'\n",
    ")\n",
    "cursor: redshift_connector.Cursor = conn.cursor()\n",
    "cursor.execute(\"select * from mitrphol_prod.smart_factory.shredder_dim_taginfo where factory='MAC' \")\n",
    "df_taginfo: pd.DataFrame = cursor.fetch_dataframe()\n",
    "\n",
    "# cursor.execute(\"select * from mitrphol_prod.smart_factory.shredder_fact_pidata_mac\")\n",
    "# df_data: pd.DataFrame = cursor.fetch_dataframe()"
   ],
   "metadata": {
    "collapsed": false
   }
  },
  {
   "cell_type": "code",
   "execution_count": 3,
   "outputs": [
    {
     "data": {
      "text/plain": "   id factory columnname                                              webid  \\\n0   1     MAC     tag001  F1DP7qjp812TukOCueRElcymMwWIwAAATVBHREMtUElNU0...   \n1   2     MAC     tag002  F1DP7qjp812TukOCueRElcymMwWYwAAATVBHREMtUElNU0...   \n2   3     MAC     tag003  F1DP7qjp812TukOCueRElcymMwWowAAATVBHREMtUElNU0...   \n3   4     MAC     tag004  F1DP7qjp812TukOCueRElcymMwaYwAAATVBHREMtUElNU0...   \n4   5     MAC     tag005  F1DP7qjp812TukOCueRElcymMwaowAAATVBHREMtUElNU0...   \n\n                   name                            tagpath  \\\n0  Q0Q1-DCS-ML-105FT001  \\MPGDC-PIMSDBQ0Q1-DCS-ML-105FT001   \n1  Q0Q1-DCS-ML-105FT002  \\MPGDC-PIMSDBQ0Q1-DCS-ML-105FT002   \n2  Q0Q1-DCS-ML-105FT003  \\MPGDC-PIMSDBQ0Q1-DCS-ML-105FT003   \n3  Q0Q1-DCS-ML-105LT001  \\MPGDC-PIMSDBQ0Q1-DCS-ML-105LT001   \n4  Q0Q1-DCS-ML-105LT002  \\MPGDC-PIMSDBQ0Q1-DCS-ML-105LT002   \n\n                          descriptor pointclass pointtype digitalsetname  \\\n0         Shredder Flow Lube Oil NDE    classic   Float32                  \n1          Shredder Flow Lube Oil DE    classic   Float32                  \n2  Shredder Flow Cooling Water Motor    classic   Float32                  \n3                Lube Oil Upper Tank    classic   Float32                  \n4                Lube Oil Lower Tank    classic   Float32                  \n\n  engineeringunits span zero   step future displaydigits  \\\n0            L/min   50    0  FALSE  FALSE            -5   \n1            L/min   50    0  FALSE  FALSE            -5   \n2             m3/h   50    0  FALSE  FALSE            -5   \n3                %  100    0  FALSE  FALSE            -5   \n4                %  100    0  FALSE  FALSE            -5   \n\n                  created_at  \n0 2022-12-22 03:36:20.776653  \n1 2022-12-22 03:36:20.776653  \n2 2022-12-22 03:36:20.776653  \n3 2022-12-22 03:36:20.776653  \n4 2022-12-22 03:36:20.776653  ",
      "text/html": "<div>\n<style scoped>\n    .dataframe tbody tr th:only-of-type {\n        vertical-align: middle;\n    }\n\n    .dataframe tbody tr th {\n        vertical-align: top;\n    }\n\n    .dataframe thead th {\n        text-align: right;\n    }\n</style>\n<table border=\"1\" class=\"dataframe\">\n  <thead>\n    <tr style=\"text-align: right;\">\n      <th></th>\n      <th>id</th>\n      <th>factory</th>\n      <th>columnname</th>\n      <th>webid</th>\n      <th>name</th>\n      <th>tagpath</th>\n      <th>descriptor</th>\n      <th>pointclass</th>\n      <th>pointtype</th>\n      <th>digitalsetname</th>\n      <th>engineeringunits</th>\n      <th>span</th>\n      <th>zero</th>\n      <th>step</th>\n      <th>future</th>\n      <th>displaydigits</th>\n      <th>created_at</th>\n    </tr>\n  </thead>\n  <tbody>\n    <tr>\n      <th>0</th>\n      <td>1</td>\n      <td>MAC</td>\n      <td>tag001</td>\n      <td>F1DP7qjp812TukOCueRElcymMwWIwAAATVBHREMtUElNU0...</td>\n      <td>Q0Q1-DCS-ML-105FT001</td>\n      <td>\\MPGDC-PIMSDBQ0Q1-DCS-ML-105FT001</td>\n      <td>Shredder Flow Lube Oil NDE</td>\n      <td>classic</td>\n      <td>Float32</td>\n      <td></td>\n      <td>L/min</td>\n      <td>50</td>\n      <td>0</td>\n      <td>FALSE</td>\n      <td>FALSE</td>\n      <td>-5</td>\n      <td>2022-12-22 03:36:20.776653</td>\n    </tr>\n    <tr>\n      <th>1</th>\n      <td>2</td>\n      <td>MAC</td>\n      <td>tag002</td>\n      <td>F1DP7qjp812TukOCueRElcymMwWYwAAATVBHREMtUElNU0...</td>\n      <td>Q0Q1-DCS-ML-105FT002</td>\n      <td>\\MPGDC-PIMSDBQ0Q1-DCS-ML-105FT002</td>\n      <td>Shredder Flow Lube Oil DE</td>\n      <td>classic</td>\n      <td>Float32</td>\n      <td></td>\n      <td>L/min</td>\n      <td>50</td>\n      <td>0</td>\n      <td>FALSE</td>\n      <td>FALSE</td>\n      <td>-5</td>\n      <td>2022-12-22 03:36:20.776653</td>\n    </tr>\n    <tr>\n      <th>2</th>\n      <td>3</td>\n      <td>MAC</td>\n      <td>tag003</td>\n      <td>F1DP7qjp812TukOCueRElcymMwWowAAATVBHREMtUElNU0...</td>\n      <td>Q0Q1-DCS-ML-105FT003</td>\n      <td>\\MPGDC-PIMSDBQ0Q1-DCS-ML-105FT003</td>\n      <td>Shredder Flow Cooling Water Motor</td>\n      <td>classic</td>\n      <td>Float32</td>\n      <td></td>\n      <td>m3/h</td>\n      <td>50</td>\n      <td>0</td>\n      <td>FALSE</td>\n      <td>FALSE</td>\n      <td>-5</td>\n      <td>2022-12-22 03:36:20.776653</td>\n    </tr>\n    <tr>\n      <th>3</th>\n      <td>4</td>\n      <td>MAC</td>\n      <td>tag004</td>\n      <td>F1DP7qjp812TukOCueRElcymMwaYwAAATVBHREMtUElNU0...</td>\n      <td>Q0Q1-DCS-ML-105LT001</td>\n      <td>\\MPGDC-PIMSDBQ0Q1-DCS-ML-105LT001</td>\n      <td>Lube Oil Upper Tank</td>\n      <td>classic</td>\n      <td>Float32</td>\n      <td></td>\n      <td>%</td>\n      <td>100</td>\n      <td>0</td>\n      <td>FALSE</td>\n      <td>FALSE</td>\n      <td>-5</td>\n      <td>2022-12-22 03:36:20.776653</td>\n    </tr>\n    <tr>\n      <th>4</th>\n      <td>5</td>\n      <td>MAC</td>\n      <td>tag005</td>\n      <td>F1DP7qjp812TukOCueRElcymMwaowAAATVBHREMtUElNU0...</td>\n      <td>Q0Q1-DCS-ML-105LT002</td>\n      <td>\\MPGDC-PIMSDBQ0Q1-DCS-ML-105LT002</td>\n      <td>Lube Oil Lower Tank</td>\n      <td>classic</td>\n      <td>Float32</td>\n      <td></td>\n      <td>%</td>\n      <td>100</td>\n      <td>0</td>\n      <td>FALSE</td>\n      <td>FALSE</td>\n      <td>-5</td>\n      <td>2022-12-22 03:36:20.776653</td>\n    </tr>\n  </tbody>\n</table>\n</div>"
     },
     "execution_count": 3,
     "metadata": {},
     "output_type": "execute_result"
    }
   ],
   "source": [
    "df_taginfo.head()"
   ],
   "metadata": {
    "collapsed": false
   }
  },
  {
   "cell_type": "code",
   "execution_count": 4,
   "outputs": [],
   "source": [
    "cursor.execute(\"SELECT * FROM mitrphol_prod.smart_factory.shredder_fact_pidata_mac\")\n",
    "df_data: pd.DataFrame = cursor.fetch_dataframe()"
   ],
   "metadata": {
    "collapsed": false
   }
  },
  {
   "cell_type": "code",
   "execution_count": 5,
   "outputs": [
    {
     "data": {
      "text/plain": "   id                  ts           tag001_ts  tag001_val           tag002_ts  \\\n0   1 2022-12-22 16:01:04 2022-12-22 16:01:00  3.88036919 2022-12-22 15:55:00   \n1   6 2022-12-22 16:11:35 2022-12-22 16:11:00  3.27519655 2022-12-22 16:05:00   \n2  11 2022-12-22 16:16:31 2022-12-22 16:13:00    3.742733 2022-12-22 16:05:00   \n3  14 2022-12-22 16:19:44 2022-12-22 16:18:59    3.567254 2022-12-22 16:16:49   \n4  20 2022-12-22 16:25:44 2022-12-22 16:24:59  3.16838336 2022-12-22 16:16:49   \n\n   tag002_val           tag003_ts  tag003_val           tag004_ts tag004_val  \\\n0  4.68390942 2022-12-22 15:56:00  33.1094055 2022-12-22 16:00:00   97.21065   \n1  4.70618773 2022-12-22 16:07:00  33.1094055 2022-12-22 16:04:00   97.09926   \n2  4.70618773 2022-12-22 16:07:00  33.1094055 2022-12-22 16:04:00   97.09926   \n3  4.66712427 2022-12-22 16:16:49  33.1366463 2022-12-22 16:16:49   97.24574   \n4  4.66712427 2022-12-22 16:24:59  33.0827026 2022-12-22 16:24:59   97.13435   \n\n   ...           tag026_ts  tag026_val tag027_ts tag027_val tag028_ts  \\\n0  ... 2022-12-22 15:53:00     6560.39      None       None      None   \n1  ... 2022-12-22 16:04:00  6540.54443      None       None      None   \n2  ... 2022-12-22 16:04:00  6540.54443      None       None      None   \n3  ... 2022-12-22 16:16:49    6587.795      None       None      None   \n4  ... 2022-12-22 16:16:49    6587.795      None       None      None   \n\n  tag028_val tag029_ts tag029_val tag030_ts tag030_val  \n0       None      None       None      None       None  \n1       None      None       None      None       None  \n2       None      None       None      None       None  \n3       None      None       None      None       None  \n4       None      None       None      None       None  \n\n[5 rows x 62 columns]",
      "text/html": "<div>\n<style scoped>\n    .dataframe tbody tr th:only-of-type {\n        vertical-align: middle;\n    }\n\n    .dataframe tbody tr th {\n        vertical-align: top;\n    }\n\n    .dataframe thead th {\n        text-align: right;\n    }\n</style>\n<table border=\"1\" class=\"dataframe\">\n  <thead>\n    <tr style=\"text-align: right;\">\n      <th></th>\n      <th>id</th>\n      <th>ts</th>\n      <th>tag001_ts</th>\n      <th>tag001_val</th>\n      <th>tag002_ts</th>\n      <th>tag002_val</th>\n      <th>tag003_ts</th>\n      <th>tag003_val</th>\n      <th>tag004_ts</th>\n      <th>tag004_val</th>\n      <th>...</th>\n      <th>tag026_ts</th>\n      <th>tag026_val</th>\n      <th>tag027_ts</th>\n      <th>tag027_val</th>\n      <th>tag028_ts</th>\n      <th>tag028_val</th>\n      <th>tag029_ts</th>\n      <th>tag029_val</th>\n      <th>tag030_ts</th>\n      <th>tag030_val</th>\n    </tr>\n  </thead>\n  <tbody>\n    <tr>\n      <th>0</th>\n      <td>1</td>\n      <td>2022-12-22 16:01:04</td>\n      <td>2022-12-22 16:01:00</td>\n      <td>3.88036919</td>\n      <td>2022-12-22 15:55:00</td>\n      <td>4.68390942</td>\n      <td>2022-12-22 15:56:00</td>\n      <td>33.1094055</td>\n      <td>2022-12-22 16:00:00</td>\n      <td>97.21065</td>\n      <td>...</td>\n      <td>2022-12-22 15:53:00</td>\n      <td>6560.39</td>\n      <td>None</td>\n      <td>None</td>\n      <td>None</td>\n      <td>None</td>\n      <td>None</td>\n      <td>None</td>\n      <td>None</td>\n      <td>None</td>\n    </tr>\n    <tr>\n      <th>1</th>\n      <td>6</td>\n      <td>2022-12-22 16:11:35</td>\n      <td>2022-12-22 16:11:00</td>\n      <td>3.27519655</td>\n      <td>2022-12-22 16:05:00</td>\n      <td>4.70618773</td>\n      <td>2022-12-22 16:07:00</td>\n      <td>33.1094055</td>\n      <td>2022-12-22 16:04:00</td>\n      <td>97.09926</td>\n      <td>...</td>\n      <td>2022-12-22 16:04:00</td>\n      <td>6540.54443</td>\n      <td>None</td>\n      <td>None</td>\n      <td>None</td>\n      <td>None</td>\n      <td>None</td>\n      <td>None</td>\n      <td>None</td>\n      <td>None</td>\n    </tr>\n    <tr>\n      <th>2</th>\n      <td>11</td>\n      <td>2022-12-22 16:16:31</td>\n      <td>2022-12-22 16:13:00</td>\n      <td>3.742733</td>\n      <td>2022-12-22 16:05:00</td>\n      <td>4.70618773</td>\n      <td>2022-12-22 16:07:00</td>\n      <td>33.1094055</td>\n      <td>2022-12-22 16:04:00</td>\n      <td>97.09926</td>\n      <td>...</td>\n      <td>2022-12-22 16:04:00</td>\n      <td>6540.54443</td>\n      <td>None</td>\n      <td>None</td>\n      <td>None</td>\n      <td>None</td>\n      <td>None</td>\n      <td>None</td>\n      <td>None</td>\n      <td>None</td>\n    </tr>\n    <tr>\n      <th>3</th>\n      <td>14</td>\n      <td>2022-12-22 16:19:44</td>\n      <td>2022-12-22 16:18:59</td>\n      <td>3.567254</td>\n      <td>2022-12-22 16:16:49</td>\n      <td>4.66712427</td>\n      <td>2022-12-22 16:16:49</td>\n      <td>33.1366463</td>\n      <td>2022-12-22 16:16:49</td>\n      <td>97.24574</td>\n      <td>...</td>\n      <td>2022-12-22 16:16:49</td>\n      <td>6587.795</td>\n      <td>None</td>\n      <td>None</td>\n      <td>None</td>\n      <td>None</td>\n      <td>None</td>\n      <td>None</td>\n      <td>None</td>\n      <td>None</td>\n    </tr>\n    <tr>\n      <th>4</th>\n      <td>20</td>\n      <td>2022-12-22 16:25:44</td>\n      <td>2022-12-22 16:24:59</td>\n      <td>3.16838336</td>\n      <td>2022-12-22 16:16:49</td>\n      <td>4.66712427</td>\n      <td>2022-12-22 16:24:59</td>\n      <td>33.0827026</td>\n      <td>2022-12-22 16:24:59</td>\n      <td>97.13435</td>\n      <td>...</td>\n      <td>2022-12-22 16:16:49</td>\n      <td>6587.795</td>\n      <td>None</td>\n      <td>None</td>\n      <td>None</td>\n      <td>None</td>\n      <td>None</td>\n      <td>None</td>\n      <td>None</td>\n      <td>None</td>\n    </tr>\n  </tbody>\n</table>\n<p>5 rows × 62 columns</p>\n</div>"
     },
     "execution_count": 5,
     "metadata": {},
     "output_type": "execute_result"
    }
   ],
   "source": [
    "df_data.head()"
   ],
   "metadata": {
    "collapsed": false
   }
  },
  {
   "cell_type": "code",
   "execution_count": 35,
   "outputs": [],
   "source": [
    "cursor.execute(\"SELECT * FROM mitrphol_prod.smart_factory.shredder_fact_prediction_mac\")\n",
    "predict_mac: pd.DataFrame = cursor.fetch_dataframe()"
   ],
   "metadata": {
    "collapsed": false
   }
  },
  {
   "cell_type": "code",
   "execution_count": 36,
   "outputs": [
    {
     "data": {
      "text/plain": "   id                  ts     pred_val\n0   3 2023-01-05 14:38:30  0.385742247\n1   8 2023-01-05 14:46:14  0.367724955\n2  12 2023-01-05 14:50:10  0.358856112\n3  13 2023-01-05 14:51:10  0.356928825\n4  17 2023-01-05 14:55:10  0.382198095",
      "text/html": "<div>\n<style scoped>\n    .dataframe tbody tr th:only-of-type {\n        vertical-align: middle;\n    }\n\n    .dataframe tbody tr th {\n        vertical-align: top;\n    }\n\n    .dataframe thead th {\n        text-align: right;\n    }\n</style>\n<table border=\"1\" class=\"dataframe\">\n  <thead>\n    <tr style=\"text-align: right;\">\n      <th></th>\n      <th>id</th>\n      <th>ts</th>\n      <th>pred_val</th>\n    </tr>\n  </thead>\n  <tbody>\n    <tr>\n      <th>0</th>\n      <td>3</td>\n      <td>2023-01-05 14:38:30</td>\n      <td>0.385742247</td>\n    </tr>\n    <tr>\n      <th>1</th>\n      <td>8</td>\n      <td>2023-01-05 14:46:14</td>\n      <td>0.367724955</td>\n    </tr>\n    <tr>\n      <th>2</th>\n      <td>12</td>\n      <td>2023-01-05 14:50:10</td>\n      <td>0.358856112</td>\n    </tr>\n    <tr>\n      <th>3</th>\n      <td>13</td>\n      <td>2023-01-05 14:51:10</td>\n      <td>0.356928825</td>\n    </tr>\n    <tr>\n      <th>4</th>\n      <td>17</td>\n      <td>2023-01-05 14:55:10</td>\n      <td>0.382198095</td>\n    </tr>\n  </tbody>\n</table>\n</div>"
     },
     "execution_count": 36,
     "metadata": {},
     "output_type": "execute_result"
    }
   ],
   "source": [
    "predict_mac.head()"
   ],
   "metadata": {
    "collapsed": false
   }
  },
  {
   "cell_type": "code",
   "execution_count": 45,
   "outputs": [
    {
     "data": {
      "text/plain": "          id                  ts     pred_val  Health Score  Health Score%\n36095  35953 2023-01-30 14:02:24    0.3569206      0.892301      89.230150\n36096  35956 2023-01-30 14:05:23    0.3569206      0.892301      89.230150\n36097  35965 2023-01-30 14:14:24    0.3569206      0.892301      89.230150\n36098  35978 2023-01-30 14:27:24    0.3569206      0.892301      89.230150\n36099  35980 2023-01-30 14:29:24    0.3569206      0.892301      89.230150\n36100  35986 2023-01-30 14:35:24    0.3569206      0.892301      89.230150\n36101  35988 2023-01-30 14:37:24    0.3569206      0.892301      89.230150\n36102  35991 2023-01-30 14:40:23    0.3569206      0.892301      89.230150\n36103  35992 2023-01-30 14:41:24    0.3569206      0.892301      89.230150\n36104  35995 2023-01-30 14:44:24    0.3569206      0.892301      89.230150\n36105  36001 2023-01-30 14:50:24    0.3569206      0.892301      89.230150\n36106  36004 2023-01-30 14:53:24    0.3569206      0.892301      89.230150\n36107  36005 2023-01-30 14:54:24    0.3569206      0.892301      89.230150\n36108  36007 2023-01-30 14:56:24    0.3569206      0.892301      89.230150\n36109  36013 2023-01-30 15:02:24    0.3569206      0.892301      89.230150\n36110  36020 2023-01-30 15:09:24    0.3569206      0.892301      89.230150\n36111  36021 2023-01-30 15:10:24    0.3569206      0.892301      89.230150\n36112  36026 2023-01-30 15:15:23    0.3569206      0.892301      89.230150\n36113  36028 2023-01-30 15:17:24  0.376099437      0.940249      94.024859\n36114  36034 2023-01-30 15:23:24  0.376099437      0.940249      94.024859\n36115  36035 2023-01-30 15:24:24  0.376099437      0.940249      94.024859\n36116  36041 2023-01-30 15:30:24  0.376099437      0.940249      94.024859\n36117  36046 2023-01-30 15:35:25  0.376099437      0.940249      94.024859\n36118  36049 2023-01-30 15:38:24  0.376099437      0.940249      94.024859\n36119  36050 2023-01-30 15:39:24  0.376099437      0.940249      94.024859\n36120  36054 2023-01-30 15:43:23  0.410082966      1.025207     102.520741\n36121  36059 2023-01-30 15:48:24  0.422999889      1.057500     105.749972\n36122  36064 2023-01-30 15:53:24  0.489913344      1.224783     122.478336\n36123  36069 2023-01-30 15:58:25  0.521089196      1.302723     130.272299\n36124  36071 2023-01-30 16:00:24  0.528489828      1.321225     132.122457\n36125  36080 2023-01-30 16:09:24  0.383995235      0.959988      95.998809\n36126  36081 2023-01-30 16:10:24  0.358833462      0.897084      89.708365\n36127  36082 2023-01-30 16:11:24  0.329609632      0.824024      82.402408\n36128  36084 2023-01-30 16:13:24  0.298445344      0.746113      74.611336\n36129  36087 2023-01-30 16:16:24  0.244392842      0.610982      61.098210\n36130  36091 2023-01-30 16:20:24  0.199609876      0.499025      49.902469\n36131  36096 2023-01-30 16:25:24  0.161991745      0.404979      40.497936\n36132  36106 2023-01-30 16:35:24  0.130954325      0.327386      32.738581\n36133  36108 2023-01-30 16:37:24   0.12741521      0.318538      31.853803\n36134  36111 2023-01-30 16:40:25  0.127093285      0.317733      31.773321\n36135  36112 2023-01-30 16:41:24  0.126816392      0.317041      31.704098\n36136  36113 2023-01-30 16:42:24  0.130432606      0.326082      32.608152\n36137  36118 2023-01-30 16:47:25  0.131965786      0.329914      32.991447\n36138  36127 2023-01-30 16:56:24  0.131732702      0.329332      32.933175\n36139  36129 2023-01-30 16:58:24  0.131581873      0.328955      32.895468\n36140  36132 2023-01-30 17:01:25  0.131945044      0.329863      32.986261\n36141  36134 2023-01-30 17:03:24   0.13317585      0.332940      33.293962\n36142  36138 2023-01-30 17:07:23  0.130897254      0.327243      32.724313\n36143  36144 2023-01-30 17:13:24  0.129516393      0.323791      32.379098\n36144  36145 2023-01-30 17:14:24  0.129516393      0.323791      32.379098",
      "text/html": "<div>\n<style scoped>\n    .dataframe tbody tr th:only-of-type {\n        vertical-align: middle;\n    }\n\n    .dataframe tbody tr th {\n        vertical-align: top;\n    }\n\n    .dataframe thead th {\n        text-align: right;\n    }\n</style>\n<table border=\"1\" class=\"dataframe\">\n  <thead>\n    <tr style=\"text-align: right;\">\n      <th></th>\n      <th>id</th>\n      <th>ts</th>\n      <th>pred_val</th>\n      <th>Health Score</th>\n      <th>Health Score%</th>\n    </tr>\n  </thead>\n  <tbody>\n    <tr>\n      <th>36095</th>\n      <td>35953</td>\n      <td>2023-01-30 14:02:24</td>\n      <td>0.3569206</td>\n      <td>0.892301</td>\n      <td>89.230150</td>\n    </tr>\n    <tr>\n      <th>36096</th>\n      <td>35956</td>\n      <td>2023-01-30 14:05:23</td>\n      <td>0.3569206</td>\n      <td>0.892301</td>\n      <td>89.230150</td>\n    </tr>\n    <tr>\n      <th>36097</th>\n      <td>35965</td>\n      <td>2023-01-30 14:14:24</td>\n      <td>0.3569206</td>\n      <td>0.892301</td>\n      <td>89.230150</td>\n    </tr>\n    <tr>\n      <th>36098</th>\n      <td>35978</td>\n      <td>2023-01-30 14:27:24</td>\n      <td>0.3569206</td>\n      <td>0.892301</td>\n      <td>89.230150</td>\n    </tr>\n    <tr>\n      <th>36099</th>\n      <td>35980</td>\n      <td>2023-01-30 14:29:24</td>\n      <td>0.3569206</td>\n      <td>0.892301</td>\n      <td>89.230150</td>\n    </tr>\n    <tr>\n      <th>36100</th>\n      <td>35986</td>\n      <td>2023-01-30 14:35:24</td>\n      <td>0.3569206</td>\n      <td>0.892301</td>\n      <td>89.230150</td>\n    </tr>\n    <tr>\n      <th>36101</th>\n      <td>35988</td>\n      <td>2023-01-30 14:37:24</td>\n      <td>0.3569206</td>\n      <td>0.892301</td>\n      <td>89.230150</td>\n    </tr>\n    <tr>\n      <th>36102</th>\n      <td>35991</td>\n      <td>2023-01-30 14:40:23</td>\n      <td>0.3569206</td>\n      <td>0.892301</td>\n      <td>89.230150</td>\n    </tr>\n    <tr>\n      <th>36103</th>\n      <td>35992</td>\n      <td>2023-01-30 14:41:24</td>\n      <td>0.3569206</td>\n      <td>0.892301</td>\n      <td>89.230150</td>\n    </tr>\n    <tr>\n      <th>36104</th>\n      <td>35995</td>\n      <td>2023-01-30 14:44:24</td>\n      <td>0.3569206</td>\n      <td>0.892301</td>\n      <td>89.230150</td>\n    </tr>\n    <tr>\n      <th>36105</th>\n      <td>36001</td>\n      <td>2023-01-30 14:50:24</td>\n      <td>0.3569206</td>\n      <td>0.892301</td>\n      <td>89.230150</td>\n    </tr>\n    <tr>\n      <th>36106</th>\n      <td>36004</td>\n      <td>2023-01-30 14:53:24</td>\n      <td>0.3569206</td>\n      <td>0.892301</td>\n      <td>89.230150</td>\n    </tr>\n    <tr>\n      <th>36107</th>\n      <td>36005</td>\n      <td>2023-01-30 14:54:24</td>\n      <td>0.3569206</td>\n      <td>0.892301</td>\n      <td>89.230150</td>\n    </tr>\n    <tr>\n      <th>36108</th>\n      <td>36007</td>\n      <td>2023-01-30 14:56:24</td>\n      <td>0.3569206</td>\n      <td>0.892301</td>\n      <td>89.230150</td>\n    </tr>\n    <tr>\n      <th>36109</th>\n      <td>36013</td>\n      <td>2023-01-30 15:02:24</td>\n      <td>0.3569206</td>\n      <td>0.892301</td>\n      <td>89.230150</td>\n    </tr>\n    <tr>\n      <th>36110</th>\n      <td>36020</td>\n      <td>2023-01-30 15:09:24</td>\n      <td>0.3569206</td>\n      <td>0.892301</td>\n      <td>89.230150</td>\n    </tr>\n    <tr>\n      <th>36111</th>\n      <td>36021</td>\n      <td>2023-01-30 15:10:24</td>\n      <td>0.3569206</td>\n      <td>0.892301</td>\n      <td>89.230150</td>\n    </tr>\n    <tr>\n      <th>36112</th>\n      <td>36026</td>\n      <td>2023-01-30 15:15:23</td>\n      <td>0.3569206</td>\n      <td>0.892301</td>\n      <td>89.230150</td>\n    </tr>\n    <tr>\n      <th>36113</th>\n      <td>36028</td>\n      <td>2023-01-30 15:17:24</td>\n      <td>0.376099437</td>\n      <td>0.940249</td>\n      <td>94.024859</td>\n    </tr>\n    <tr>\n      <th>36114</th>\n      <td>36034</td>\n      <td>2023-01-30 15:23:24</td>\n      <td>0.376099437</td>\n      <td>0.940249</td>\n      <td>94.024859</td>\n    </tr>\n    <tr>\n      <th>36115</th>\n      <td>36035</td>\n      <td>2023-01-30 15:24:24</td>\n      <td>0.376099437</td>\n      <td>0.940249</td>\n      <td>94.024859</td>\n    </tr>\n    <tr>\n      <th>36116</th>\n      <td>36041</td>\n      <td>2023-01-30 15:30:24</td>\n      <td>0.376099437</td>\n      <td>0.940249</td>\n      <td>94.024859</td>\n    </tr>\n    <tr>\n      <th>36117</th>\n      <td>36046</td>\n      <td>2023-01-30 15:35:25</td>\n      <td>0.376099437</td>\n      <td>0.940249</td>\n      <td>94.024859</td>\n    </tr>\n    <tr>\n      <th>36118</th>\n      <td>36049</td>\n      <td>2023-01-30 15:38:24</td>\n      <td>0.376099437</td>\n      <td>0.940249</td>\n      <td>94.024859</td>\n    </tr>\n    <tr>\n      <th>36119</th>\n      <td>36050</td>\n      <td>2023-01-30 15:39:24</td>\n      <td>0.376099437</td>\n      <td>0.940249</td>\n      <td>94.024859</td>\n    </tr>\n    <tr>\n      <th>36120</th>\n      <td>36054</td>\n      <td>2023-01-30 15:43:23</td>\n      <td>0.410082966</td>\n      <td>1.025207</td>\n      <td>102.520741</td>\n    </tr>\n    <tr>\n      <th>36121</th>\n      <td>36059</td>\n      <td>2023-01-30 15:48:24</td>\n      <td>0.422999889</td>\n      <td>1.057500</td>\n      <td>105.749972</td>\n    </tr>\n    <tr>\n      <th>36122</th>\n      <td>36064</td>\n      <td>2023-01-30 15:53:24</td>\n      <td>0.489913344</td>\n      <td>1.224783</td>\n      <td>122.478336</td>\n    </tr>\n    <tr>\n      <th>36123</th>\n      <td>36069</td>\n      <td>2023-01-30 15:58:25</td>\n      <td>0.521089196</td>\n      <td>1.302723</td>\n      <td>130.272299</td>\n    </tr>\n    <tr>\n      <th>36124</th>\n      <td>36071</td>\n      <td>2023-01-30 16:00:24</td>\n      <td>0.528489828</td>\n      <td>1.321225</td>\n      <td>132.122457</td>\n    </tr>\n    <tr>\n      <th>36125</th>\n      <td>36080</td>\n      <td>2023-01-30 16:09:24</td>\n      <td>0.383995235</td>\n      <td>0.959988</td>\n      <td>95.998809</td>\n    </tr>\n    <tr>\n      <th>36126</th>\n      <td>36081</td>\n      <td>2023-01-30 16:10:24</td>\n      <td>0.358833462</td>\n      <td>0.897084</td>\n      <td>89.708365</td>\n    </tr>\n    <tr>\n      <th>36127</th>\n      <td>36082</td>\n      <td>2023-01-30 16:11:24</td>\n      <td>0.329609632</td>\n      <td>0.824024</td>\n      <td>82.402408</td>\n    </tr>\n    <tr>\n      <th>36128</th>\n      <td>36084</td>\n      <td>2023-01-30 16:13:24</td>\n      <td>0.298445344</td>\n      <td>0.746113</td>\n      <td>74.611336</td>\n    </tr>\n    <tr>\n      <th>36129</th>\n      <td>36087</td>\n      <td>2023-01-30 16:16:24</td>\n      <td>0.244392842</td>\n      <td>0.610982</td>\n      <td>61.098210</td>\n    </tr>\n    <tr>\n      <th>36130</th>\n      <td>36091</td>\n      <td>2023-01-30 16:20:24</td>\n      <td>0.199609876</td>\n      <td>0.499025</td>\n      <td>49.902469</td>\n    </tr>\n    <tr>\n      <th>36131</th>\n      <td>36096</td>\n      <td>2023-01-30 16:25:24</td>\n      <td>0.161991745</td>\n      <td>0.404979</td>\n      <td>40.497936</td>\n    </tr>\n    <tr>\n      <th>36132</th>\n      <td>36106</td>\n      <td>2023-01-30 16:35:24</td>\n      <td>0.130954325</td>\n      <td>0.327386</td>\n      <td>32.738581</td>\n    </tr>\n    <tr>\n      <th>36133</th>\n      <td>36108</td>\n      <td>2023-01-30 16:37:24</td>\n      <td>0.12741521</td>\n      <td>0.318538</td>\n      <td>31.853803</td>\n    </tr>\n    <tr>\n      <th>36134</th>\n      <td>36111</td>\n      <td>2023-01-30 16:40:25</td>\n      <td>0.127093285</td>\n      <td>0.317733</td>\n      <td>31.773321</td>\n    </tr>\n    <tr>\n      <th>36135</th>\n      <td>36112</td>\n      <td>2023-01-30 16:41:24</td>\n      <td>0.126816392</td>\n      <td>0.317041</td>\n      <td>31.704098</td>\n    </tr>\n    <tr>\n      <th>36136</th>\n      <td>36113</td>\n      <td>2023-01-30 16:42:24</td>\n      <td>0.130432606</td>\n      <td>0.326082</td>\n      <td>32.608152</td>\n    </tr>\n    <tr>\n      <th>36137</th>\n      <td>36118</td>\n      <td>2023-01-30 16:47:25</td>\n      <td>0.131965786</td>\n      <td>0.329914</td>\n      <td>32.991447</td>\n    </tr>\n    <tr>\n      <th>36138</th>\n      <td>36127</td>\n      <td>2023-01-30 16:56:24</td>\n      <td>0.131732702</td>\n      <td>0.329332</td>\n      <td>32.933175</td>\n    </tr>\n    <tr>\n      <th>36139</th>\n      <td>36129</td>\n      <td>2023-01-30 16:58:24</td>\n      <td>0.131581873</td>\n      <td>0.328955</td>\n      <td>32.895468</td>\n    </tr>\n    <tr>\n      <th>36140</th>\n      <td>36132</td>\n      <td>2023-01-30 17:01:25</td>\n      <td>0.131945044</td>\n      <td>0.329863</td>\n      <td>32.986261</td>\n    </tr>\n    <tr>\n      <th>36141</th>\n      <td>36134</td>\n      <td>2023-01-30 17:03:24</td>\n      <td>0.13317585</td>\n      <td>0.332940</td>\n      <td>33.293962</td>\n    </tr>\n    <tr>\n      <th>36142</th>\n      <td>36138</td>\n      <td>2023-01-30 17:07:23</td>\n      <td>0.130897254</td>\n      <td>0.327243</td>\n      <td>32.724313</td>\n    </tr>\n    <tr>\n      <th>36143</th>\n      <td>36144</td>\n      <td>2023-01-30 17:13:24</td>\n      <td>0.129516393</td>\n      <td>0.323791</td>\n      <td>32.379098</td>\n    </tr>\n    <tr>\n      <th>36144</th>\n      <td>36145</td>\n      <td>2023-01-30 17:14:24</td>\n      <td>0.129516393</td>\n      <td>0.323791</td>\n      <td>32.379098</td>\n    </tr>\n  </tbody>\n</table>\n</div>"
     },
     "execution_count": 45,
     "metadata": {},
     "output_type": "execute_result"
    }
   ],
   "source": [
    "predict_mac['Health Score'+'%'] = predict_mac['pred_val'].astype('float')*2.5*100\n",
    "predict_mac.tail(50)"
   ],
   "metadata": {
    "collapsed": false
   }
  },
  {
   "cell_type": "code",
   "execution_count": 9,
   "outputs": [],
   "source": [
    "df_data.drop(columns=['id','tag001_ts','tag002_ts','tag003_ts','tag004_ts','tag005_ts','tag006_ts','tag007_ts','tag008_ts','tag009_ts','tag010_ts','tag011_ts','tag012_ts','tag013_ts','tag014_ts','tag015_ts','tag016_ts','tag017_ts','tag018_ts','tag019_ts','tag020_ts','tag021_ts','tag022_ts','tag023_ts','tag024_ts','tag025_ts','tag026_ts','tag027_ts','tag028_ts','tag029_ts','tag030_ts','tag027_val','tag028_val','tag029_val','tag030_val'], inplace=True)"
   ],
   "metadata": {
    "collapsed": false
   }
  },
  {
   "cell_type": "code",
   "execution_count": 10,
   "outputs": [
    {
     "data": {
      "text/plain": "                       ts  tag001_val  tag002_val  tag003_val  tag004_val  \\\n0     2022-12-22 16:01:04  3.88036919  4.68390942  33.1094055    97.21065   \n1     2022-12-22 16:11:35  3.27519655  4.70618773  33.1094055    97.09926   \n2     2022-12-22 16:16:31    3.742733  4.70618773  33.1094055    97.09926   \n3     2022-12-22 16:19:44    3.567254  4.66712427  33.1366463    97.24574   \n4     2022-12-22 16:25:44  3.16838336  4.66712427  33.0827026    97.13435   \n...                   ...         ...         ...         ...         ...   \n19838 2023-01-05 16:05:43  3.40581369  3.88738847  33.1366463    97.82254   \n19839 2023-01-05 16:08:43  3.40581369  3.80315852  33.1366463    97.82254   \n19840 2023-01-05 16:11:44  3.40581369  3.80315852  33.1366463    97.82254   \n19841 2023-01-05 16:12:44  3.40581369  3.80315852  33.1366463  97.7874451   \n19842 2023-01-05 16:18:43    3.443656  3.81719685  33.1366463  97.7874451   \n\n       tag005_val tag006_val tag007_val tag008_val tag009_val  ... tag017_val  \\\n0      31.8608379       39.7       None       32.6       None  ...       62.5   \n1      31.8608379       32.4       None       27.4       None  ...       50.0   \n2      31.8608379       32.8       None       35.0       None  ...       62.5   \n3      31.8608379       19.9       None       20.1       None  ...        0.0   \n4      31.8608379       26.4       None       26.0       None  ...       25.0   \n...           ...        ...        ...        ...        ...  ...        ...   \n19838  27.7164879       31.6       None       29.2       None  ...       62.5   \n19839  27.7164879       35.7       None       36.4       None  ...       50.0   \n19840  27.7164879       34.9       None       30.4       None  ...       50.0   \n19841  27.7164879       33.3       None       33.1       None  ...       37.5   \n19842  27.7164879       29.5       None       29.6       None  ...       37.5   \n\n       tag018_val  tag019_val  tag020_val  tag021_val  tag022_val tag023_val  \\\n0      454.510529  456.307434  456.294647  17972.9512  17972.8086   0.824467   \n1       462.82843  464.394867  463.732056  17973.7969  17973.6484    0.84593   \n2        503.9631  505.145844  505.297882  17973.7969  17973.6484    0.84593   \n3      209.329941  210.686966  210.204926  17974.4434    17974.33   0.134101   \n4        378.3834  379.596954    378.3751  17974.4434    17974.33   0.768794   \n...           ...         ...         ...         ...         ...        ...   \n19838  407.293671    408.3977  407.872559  18924.9824   18924.834   0.801624   \n19839  414.904572  416.027252  415.463043    18925.63  18925.4844   0.801624   \n19840  365.988739  366.743042  366.226318    18925.63  18925.4844   0.801624   \n19841  428.169647     428.927    428.5176    18925.63  18925.4844   0.801624   \n19842    422.3957  423.316376  422.555176    18925.63  18925.4844   0.749546   \n\n       tag024_val  tag025_val  tag026_val  \n0      6551.34668  6558.15137     6560.39  \n1      6556.51758    6538.392  6540.54443  \n2      6556.51758    6538.392  6540.54443  \n3      6585.40039    6586.197    6587.795  \n4      6585.40039    6586.197    6587.795  \n...           ...         ...         ...  \n19838  6561.90674    6562.944    6564.778  \n19839  6558.51855     6559.19  6560.63037  \n19840  6558.51855     6559.19  6560.63037  \n19841  6558.51855     6559.19  6560.63037  \n19842  6558.51855     6559.19  6560.63037  \n\n[19843 rows x 27 columns]",
      "text/html": "<div>\n<style scoped>\n    .dataframe tbody tr th:only-of-type {\n        vertical-align: middle;\n    }\n\n    .dataframe tbody tr th {\n        vertical-align: top;\n    }\n\n    .dataframe thead th {\n        text-align: right;\n    }\n</style>\n<table border=\"1\" class=\"dataframe\">\n  <thead>\n    <tr style=\"text-align: right;\">\n      <th></th>\n      <th>ts</th>\n      <th>tag001_val</th>\n      <th>tag002_val</th>\n      <th>tag003_val</th>\n      <th>tag004_val</th>\n      <th>tag005_val</th>\n      <th>tag006_val</th>\n      <th>tag007_val</th>\n      <th>tag008_val</th>\n      <th>tag009_val</th>\n      <th>...</th>\n      <th>tag017_val</th>\n      <th>tag018_val</th>\n      <th>tag019_val</th>\n      <th>tag020_val</th>\n      <th>tag021_val</th>\n      <th>tag022_val</th>\n      <th>tag023_val</th>\n      <th>tag024_val</th>\n      <th>tag025_val</th>\n      <th>tag026_val</th>\n    </tr>\n  </thead>\n  <tbody>\n    <tr>\n      <th>0</th>\n      <td>2022-12-22 16:01:04</td>\n      <td>3.88036919</td>\n      <td>4.68390942</td>\n      <td>33.1094055</td>\n      <td>97.21065</td>\n      <td>31.8608379</td>\n      <td>39.7</td>\n      <td>None</td>\n      <td>32.6</td>\n      <td>None</td>\n      <td>...</td>\n      <td>62.5</td>\n      <td>454.510529</td>\n      <td>456.307434</td>\n      <td>456.294647</td>\n      <td>17972.9512</td>\n      <td>17972.8086</td>\n      <td>0.824467</td>\n      <td>6551.34668</td>\n      <td>6558.15137</td>\n      <td>6560.39</td>\n    </tr>\n    <tr>\n      <th>1</th>\n      <td>2022-12-22 16:11:35</td>\n      <td>3.27519655</td>\n      <td>4.70618773</td>\n      <td>33.1094055</td>\n      <td>97.09926</td>\n      <td>31.8608379</td>\n      <td>32.4</td>\n      <td>None</td>\n      <td>27.4</td>\n      <td>None</td>\n      <td>...</td>\n      <td>50.0</td>\n      <td>462.82843</td>\n      <td>464.394867</td>\n      <td>463.732056</td>\n      <td>17973.7969</td>\n      <td>17973.6484</td>\n      <td>0.84593</td>\n      <td>6556.51758</td>\n      <td>6538.392</td>\n      <td>6540.54443</td>\n    </tr>\n    <tr>\n      <th>2</th>\n      <td>2022-12-22 16:16:31</td>\n      <td>3.742733</td>\n      <td>4.70618773</td>\n      <td>33.1094055</td>\n      <td>97.09926</td>\n      <td>31.8608379</td>\n      <td>32.8</td>\n      <td>None</td>\n      <td>35.0</td>\n      <td>None</td>\n      <td>...</td>\n      <td>62.5</td>\n      <td>503.9631</td>\n      <td>505.145844</td>\n      <td>505.297882</td>\n      <td>17973.7969</td>\n      <td>17973.6484</td>\n      <td>0.84593</td>\n      <td>6556.51758</td>\n      <td>6538.392</td>\n      <td>6540.54443</td>\n    </tr>\n    <tr>\n      <th>3</th>\n      <td>2022-12-22 16:19:44</td>\n      <td>3.567254</td>\n      <td>4.66712427</td>\n      <td>33.1366463</td>\n      <td>97.24574</td>\n      <td>31.8608379</td>\n      <td>19.9</td>\n      <td>None</td>\n      <td>20.1</td>\n      <td>None</td>\n      <td>...</td>\n      <td>0.0</td>\n      <td>209.329941</td>\n      <td>210.686966</td>\n      <td>210.204926</td>\n      <td>17974.4434</td>\n      <td>17974.33</td>\n      <td>0.134101</td>\n      <td>6585.40039</td>\n      <td>6586.197</td>\n      <td>6587.795</td>\n    </tr>\n    <tr>\n      <th>4</th>\n      <td>2022-12-22 16:25:44</td>\n      <td>3.16838336</td>\n      <td>4.66712427</td>\n      <td>33.0827026</td>\n      <td>97.13435</td>\n      <td>31.8608379</td>\n      <td>26.4</td>\n      <td>None</td>\n      <td>26.0</td>\n      <td>None</td>\n      <td>...</td>\n      <td>25.0</td>\n      <td>378.3834</td>\n      <td>379.596954</td>\n      <td>378.3751</td>\n      <td>17974.4434</td>\n      <td>17974.33</td>\n      <td>0.768794</td>\n      <td>6585.40039</td>\n      <td>6586.197</td>\n      <td>6587.795</td>\n    </tr>\n    <tr>\n      <th>...</th>\n      <td>...</td>\n      <td>...</td>\n      <td>...</td>\n      <td>...</td>\n      <td>...</td>\n      <td>...</td>\n      <td>...</td>\n      <td>...</td>\n      <td>...</td>\n      <td>...</td>\n      <td>...</td>\n      <td>...</td>\n      <td>...</td>\n      <td>...</td>\n      <td>...</td>\n      <td>...</td>\n      <td>...</td>\n      <td>...</td>\n      <td>...</td>\n      <td>...</td>\n      <td>...</td>\n    </tr>\n    <tr>\n      <th>19838</th>\n      <td>2023-01-05 16:05:43</td>\n      <td>3.40581369</td>\n      <td>3.88738847</td>\n      <td>33.1366463</td>\n      <td>97.82254</td>\n      <td>27.7164879</td>\n      <td>31.6</td>\n      <td>None</td>\n      <td>29.2</td>\n      <td>None</td>\n      <td>...</td>\n      <td>62.5</td>\n      <td>407.293671</td>\n      <td>408.3977</td>\n      <td>407.872559</td>\n      <td>18924.9824</td>\n      <td>18924.834</td>\n      <td>0.801624</td>\n      <td>6561.90674</td>\n      <td>6562.944</td>\n      <td>6564.778</td>\n    </tr>\n    <tr>\n      <th>19839</th>\n      <td>2023-01-05 16:08:43</td>\n      <td>3.40581369</td>\n      <td>3.80315852</td>\n      <td>33.1366463</td>\n      <td>97.82254</td>\n      <td>27.7164879</td>\n      <td>35.7</td>\n      <td>None</td>\n      <td>36.4</td>\n      <td>None</td>\n      <td>...</td>\n      <td>50.0</td>\n      <td>414.904572</td>\n      <td>416.027252</td>\n      <td>415.463043</td>\n      <td>18925.63</td>\n      <td>18925.4844</td>\n      <td>0.801624</td>\n      <td>6558.51855</td>\n      <td>6559.19</td>\n      <td>6560.63037</td>\n    </tr>\n    <tr>\n      <th>19840</th>\n      <td>2023-01-05 16:11:44</td>\n      <td>3.40581369</td>\n      <td>3.80315852</td>\n      <td>33.1366463</td>\n      <td>97.82254</td>\n      <td>27.7164879</td>\n      <td>34.9</td>\n      <td>None</td>\n      <td>30.4</td>\n      <td>None</td>\n      <td>...</td>\n      <td>50.0</td>\n      <td>365.988739</td>\n      <td>366.743042</td>\n      <td>366.226318</td>\n      <td>18925.63</td>\n      <td>18925.4844</td>\n      <td>0.801624</td>\n      <td>6558.51855</td>\n      <td>6559.19</td>\n      <td>6560.63037</td>\n    </tr>\n    <tr>\n      <th>19841</th>\n      <td>2023-01-05 16:12:44</td>\n      <td>3.40581369</td>\n      <td>3.80315852</td>\n      <td>33.1366463</td>\n      <td>97.7874451</td>\n      <td>27.7164879</td>\n      <td>33.3</td>\n      <td>None</td>\n      <td>33.1</td>\n      <td>None</td>\n      <td>...</td>\n      <td>37.5</td>\n      <td>428.169647</td>\n      <td>428.927</td>\n      <td>428.5176</td>\n      <td>18925.63</td>\n      <td>18925.4844</td>\n      <td>0.801624</td>\n      <td>6558.51855</td>\n      <td>6559.19</td>\n      <td>6560.63037</td>\n    </tr>\n    <tr>\n      <th>19842</th>\n      <td>2023-01-05 16:18:43</td>\n      <td>3.443656</td>\n      <td>3.81719685</td>\n      <td>33.1366463</td>\n      <td>97.7874451</td>\n      <td>27.7164879</td>\n      <td>29.5</td>\n      <td>None</td>\n      <td>29.6</td>\n      <td>None</td>\n      <td>...</td>\n      <td>37.5</td>\n      <td>422.3957</td>\n      <td>423.316376</td>\n      <td>422.555176</td>\n      <td>18925.63</td>\n      <td>18925.4844</td>\n      <td>0.749546</td>\n      <td>6558.51855</td>\n      <td>6559.19</td>\n      <td>6560.63037</td>\n    </tr>\n  </tbody>\n</table>\n<p>19843 rows × 27 columns</p>\n</div>"
     },
     "execution_count": 10,
     "metadata": {},
     "output_type": "execute_result"
    }
   ],
   "source": [
    "df_data"
   ],
   "metadata": {
    "collapsed": false
   }
  },
  {
   "cell_type": "code",
   "execution_count": null,
   "outputs": [],
   "source": [
    "# df_data.remove('')"
   ],
   "metadata": {
    "collapsed": false
   }
  },
  {
   "cell_type": "code",
   "execution_count": null,
   "outputs": [],
   "source": [
    "# rul = pd.DataFrame(df_train.groupby('Operation')['Number of cycle'].max()).reset_index()\n",
    "# rul.columns = ['Operation', 'max']\n",
    "# df_train = df_train.merge(rul, on=['Operation'], how='left')\n",
    "# df_train['RUL'] = df_train['max'] - df_train['Number of cycle']\n",
    "# df_train.drop('max', axis=1, inplace=True)\n",
    "# df_train"
   ],
   "metadata": {
    "collapsed": false
   }
  }
 ],
 "metadata": {
  "kernelspec": {
   "display_name": "Python 3",
   "language": "python",
   "name": "python3"
  },
  "language_info": {
   "codemirror_mode": {
    "name": "ipython",
    "version": 2
   },
   "file_extension": ".py",
   "mimetype": "text/x-python",
   "name": "python",
   "nbconvert_exporter": "python",
   "pygments_lexer": "ipython2",
   "version": "2.7.6"
  }
 },
 "nbformat": 4,
 "nbformat_minor": 0
}
