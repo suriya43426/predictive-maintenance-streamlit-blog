{
 "cells": [
  {
   "cell_type": "code",
   "execution_count": 5,
   "metadata": {
    "collapsed": true
   },
   "outputs": [
    {
     "name": "stdout",
     "output_type": "stream",
     "text": [
      "Collecting redshift-connector\r\n",
      "  Downloading redshift_connector-2.0.909-py3-none-any.whl (112 kB)\r\n",
      "\u001B[2K     \u001B[90m━━━━━━━━━━━━━━━━━━━━━━━━━━━━━━━━━━━━━━━\u001B[0m \u001B[32m112.1/112.1 kB\u001B[0m \u001B[31m1.9 MB/s\u001B[0m eta \u001B[36m0:00:00\u001B[0ma \u001B[36m0:00:01\u001B[0m\r\n",
      "\u001B[?25hRequirement already satisfied: setuptools in /Users/suriyaohmchayatummagoone/miniconda3/lib/python3.9/site-packages (from redshift-connector) (65.5.0)\r\n",
      "Collecting scramp<1.5.0,>=1.2.0\r\n",
      "  Downloading scramp-1.4.4-py3-none-any.whl (13 kB)\r\n",
      "Requirement already satisfied: packaging in /Users/suriyaohmchayatummagoone/miniconda3/lib/python3.9/site-packages (from redshift-connector) (22.0)\r\n",
      "Requirement already satisfied: requests<3.0.0,>=2.23.0 in /Users/suriyaohmchayatummagoone/miniconda3/lib/python3.9/site-packages (from redshift-connector) (2.28.1)\r\n",
      "Requirement already satisfied: lxml>=4.6.5 in /Users/suriyaohmchayatummagoone/miniconda3/lib/python3.9/site-packages (from redshift-connector) (4.9.1)\r\n",
      "Collecting botocore<2.0.0,>=1.12.201\r\n",
      "  Downloading botocore-1.29.55-py3-none-any.whl (10.3 MB)\r\n",
      "\u001B[2K     \u001B[90m━━━━━━━━━━━━━━━━━━━━━━━━━━━━━━━━━━━━━━━\u001B[0m \u001B[32m10.3/10.3 MB\u001B[0m \u001B[31m580.2 kB/s\u001B[0m eta \u001B[36m0:00:00\u001B[0m00:01\u001B[0m00:01\u001B[0m\r\n",
      "\u001B[?25hRequirement already satisfied: beautifulsoup4<5.0.0,>=4.7.0 in /Users/suriyaohmchayatummagoone/miniconda3/lib/python3.9/site-packages (from redshift-connector) (4.11.1)\r\n",
      "Collecting boto3<2.0.0,>=1.9.201\r\n",
      "  Downloading boto3-1.26.55-py3-none-any.whl (132 kB)\r\n",
      "\u001B[2K     \u001B[90m━━━━━━━━━━━━━━━━━━━━━━━━━━━━━━━━━━━━━━━\u001B[0m \u001B[32m132.7/132.7 kB\u001B[0m \u001B[31m3.4 MB/s\u001B[0m eta \u001B[36m0:00:00\u001B[0ma \u001B[36m0:00:01\u001B[0m\r\n",
      "\u001B[?25hRequirement already satisfied: pytz>=2020.1 in /Users/suriyaohmchayatummagoone/miniconda3/lib/python3.9/site-packages (from redshift-connector) (2022.7)\r\n",
      "Requirement already satisfied: soupsieve>1.2 in /Users/suriyaohmchayatummagoone/miniconda3/lib/python3.9/site-packages (from beautifulsoup4<5.0.0,>=4.7.0->redshift-connector) (2.3.2.post1)\r\n",
      "Collecting jmespath<2.0.0,>=0.7.1\r\n",
      "  Downloading jmespath-1.0.1-py3-none-any.whl (20 kB)\r\n",
      "Collecting s3transfer<0.7.0,>=0.6.0\r\n",
      "  Downloading s3transfer-0.6.0-py3-none-any.whl (79 kB)\r\n",
      "\u001B[2K     \u001B[90m━━━━━━━━━━━━━━━━━━━━━━━━━━━━━━━━━━━━━━━━\u001B[0m \u001B[32m79.6/79.6 kB\u001B[0m \u001B[31m8.2 MB/s\u001B[0m eta \u001B[36m0:00:00\u001B[0m\r\n",
      "\u001B[?25hRequirement already satisfied: python-dateutil<3.0.0,>=2.1 in /Users/suriyaohmchayatummagoone/miniconda3/lib/python3.9/site-packages (from botocore<2.0.0,>=1.12.201->redshift-connector) (2.8.2)\r\n",
      "Requirement already satisfied: urllib3<1.27,>=1.25.4 in /Users/suriyaohmchayatummagoone/miniconda3/lib/python3.9/site-packages (from botocore<2.0.0,>=1.12.201->redshift-connector) (1.26.13)\r\n",
      "Requirement already satisfied: charset-normalizer<3,>=2 in /Users/suriyaohmchayatummagoone/miniconda3/lib/python3.9/site-packages (from requests<3.0.0,>=2.23.0->redshift-connector) (2.0.4)\r\n",
      "Requirement already satisfied: certifi>=2017.4.17 in /Users/suriyaohmchayatummagoone/miniconda3/lib/python3.9/site-packages (from requests<3.0.0,>=2.23.0->redshift-connector) (2022.12.7)\r\n",
      "Requirement already satisfied: idna<4,>=2.5 in /Users/suriyaohmchayatummagoone/miniconda3/lib/python3.9/site-packages (from requests<3.0.0,>=2.23.0->redshift-connector) (3.4)\r\n",
      "Collecting asn1crypto>=1.5.1\r\n",
      "  Downloading asn1crypto-1.5.1-py2.py3-none-any.whl (105 kB)\r\n",
      "\u001B[2K     \u001B[90m━━━━━━━━━━━━━━━━━━━━━━━━━━━━━━━━━━━━━━━\u001B[0m \u001B[32m105.0/105.0 kB\u001B[0m \u001B[31m2.3 MB/s\u001B[0m eta \u001B[36m0:00:00\u001B[0m00:01\u001B[0m\r\n",
      "\u001B[?25hRequirement already satisfied: six>=1.5 in /Users/suriyaohmchayatummagoone/miniconda3/lib/python3.9/site-packages (from python-dateutil<3.0.0,>=2.1->botocore<2.0.0,>=1.12.201->redshift-connector) (1.16.0)\r\n",
      "Installing collected packages: asn1crypto, scramp, jmespath, botocore, s3transfer, boto3, redshift-connector\r\n",
      "Successfully installed asn1crypto-1.5.1 boto3-1.26.55 botocore-1.29.55 jmespath-1.0.1 redshift-connector-2.0.909 s3transfer-0.6.0 scramp-1.4.4\r\n"
     ]
    }
   ],
   "source": [
    "!pip install redshift-connector"
   ]
  },
  {
   "cell_type": "code",
   "execution_count": 6,
   "outputs": [],
   "source": [
    "import boto3\n",
    "import json\n",
    "import pandas as pd\n",
    "import redshift_connector"
   ],
   "metadata": {
    "collapsed": false
   }
  },
  {
   "cell_type": "code",
   "execution_count": 7,
   "outputs": [],
   "source": [
    "conn = redshift_connector.connect(\n",
    "    host     = '10.35.11.11',\n",
    "    database = 'mitrphol_prod',\n",
    "    user     = 'smart_factory',\n",
    "    password = 'mpgfac@DX2022'\n",
    ")\n",
    "cursor: redshift_connector.Cursor = conn.cursor()\n",
    "cursor.execute(\"select * from mitrphol_prod.smart_factory.shredder_dim_taginfo where factory='MAC' \")\n",
    "df_taginfo: pd.DataFrame = cursor.fetch_dataframe()\n",
    "\n",
    "# cursor.execute(\"select * from mitrphol_prod.smart_factory.shredder_fact_pidata_mac\")\n",
    "# df_data: pd.DataFrame = cursor.fetch_dataframe()"
   ],
   "metadata": {
    "collapsed": false
   }
  },
  {
   "cell_type": "code",
   "execution_count": 25,
   "outputs": [
    {
     "data": {
      "text/plain": "   id factory columnname                                              webid  \\\n0   1     MAC     tag001  F1DP7qjp812TukOCueRElcymMwWIwAAATVBHREMtUElNU0...   \n1   2     MAC     tag002  F1DP7qjp812TukOCueRElcymMwWYwAAATVBHREMtUElNU0...   \n2   3     MAC     tag003  F1DP7qjp812TukOCueRElcymMwWowAAATVBHREMtUElNU0...   \n3   4     MAC     tag004  F1DP7qjp812TukOCueRElcymMwaYwAAATVBHREMtUElNU0...   \n4   5     MAC     tag005  F1DP7qjp812TukOCueRElcymMwaowAAATVBHREMtUElNU0...   \n\n                   name                            tagpath  \\\n0  Q0Q1-DCS-ML-105FT001  \\MPGDC-PIMSDBQ0Q1-DCS-ML-105FT001   \n1  Q0Q1-DCS-ML-105FT002  \\MPGDC-PIMSDBQ0Q1-DCS-ML-105FT002   \n2  Q0Q1-DCS-ML-105FT003  \\MPGDC-PIMSDBQ0Q1-DCS-ML-105FT003   \n3  Q0Q1-DCS-ML-105LT001  \\MPGDC-PIMSDBQ0Q1-DCS-ML-105LT001   \n4  Q0Q1-DCS-ML-105LT002  \\MPGDC-PIMSDBQ0Q1-DCS-ML-105LT002   \n\n                          descriptor pointclass pointtype digitalsetname  \\\n0         Shredder Flow Lube Oil NDE    classic   Float32                  \n1          Shredder Flow Lube Oil DE    classic   Float32                  \n2  Shredder Flow Cooling Water Motor    classic   Float32                  \n3                Lube Oil Upper Tank    classic   Float32                  \n4                Lube Oil Lower Tank    classic   Float32                  \n\n  engineeringunits span zero   step future displaydigits  \\\n0            L/min   50    0  FALSE  FALSE            -5   \n1            L/min   50    0  FALSE  FALSE            -5   \n2             m3/h   50    0  FALSE  FALSE            -5   \n3                %  100    0  FALSE  FALSE            -5   \n4                %  100    0  FALSE  FALSE            -5   \n\n                  created_at  \n0 2022-12-22 03:36:20.776653  \n1 2022-12-22 03:36:20.776653  \n2 2022-12-22 03:36:20.776653  \n3 2022-12-22 03:36:20.776653  \n4 2022-12-22 03:36:20.776653  ",
      "text/html": "<div>\n<style scoped>\n    .dataframe tbody tr th:only-of-type {\n        vertical-align: middle;\n    }\n\n    .dataframe tbody tr th {\n        vertical-align: top;\n    }\n\n    .dataframe thead th {\n        text-align: right;\n    }\n</style>\n<table border=\"1\" class=\"dataframe\">\n  <thead>\n    <tr style=\"text-align: right;\">\n      <th></th>\n      <th>id</th>\n      <th>factory</th>\n      <th>columnname</th>\n      <th>webid</th>\n      <th>name</th>\n      <th>tagpath</th>\n      <th>descriptor</th>\n      <th>pointclass</th>\n      <th>pointtype</th>\n      <th>digitalsetname</th>\n      <th>engineeringunits</th>\n      <th>span</th>\n      <th>zero</th>\n      <th>step</th>\n      <th>future</th>\n      <th>displaydigits</th>\n      <th>created_at</th>\n    </tr>\n  </thead>\n  <tbody>\n    <tr>\n      <th>0</th>\n      <td>1</td>\n      <td>MAC</td>\n      <td>tag001</td>\n      <td>F1DP7qjp812TukOCueRElcymMwWIwAAATVBHREMtUElNU0...</td>\n      <td>Q0Q1-DCS-ML-105FT001</td>\n      <td>\\MPGDC-PIMSDBQ0Q1-DCS-ML-105FT001</td>\n      <td>Shredder Flow Lube Oil NDE</td>\n      <td>classic</td>\n      <td>Float32</td>\n      <td></td>\n      <td>L/min</td>\n      <td>50</td>\n      <td>0</td>\n      <td>FALSE</td>\n      <td>FALSE</td>\n      <td>-5</td>\n      <td>2022-12-22 03:36:20.776653</td>\n    </tr>\n    <tr>\n      <th>1</th>\n      <td>2</td>\n      <td>MAC</td>\n      <td>tag002</td>\n      <td>F1DP7qjp812TukOCueRElcymMwWYwAAATVBHREMtUElNU0...</td>\n      <td>Q0Q1-DCS-ML-105FT002</td>\n      <td>\\MPGDC-PIMSDBQ0Q1-DCS-ML-105FT002</td>\n      <td>Shredder Flow Lube Oil DE</td>\n      <td>classic</td>\n      <td>Float32</td>\n      <td></td>\n      <td>L/min</td>\n      <td>50</td>\n      <td>0</td>\n      <td>FALSE</td>\n      <td>FALSE</td>\n      <td>-5</td>\n      <td>2022-12-22 03:36:20.776653</td>\n    </tr>\n    <tr>\n      <th>2</th>\n      <td>3</td>\n      <td>MAC</td>\n      <td>tag003</td>\n      <td>F1DP7qjp812TukOCueRElcymMwWowAAATVBHREMtUElNU0...</td>\n      <td>Q0Q1-DCS-ML-105FT003</td>\n      <td>\\MPGDC-PIMSDBQ0Q1-DCS-ML-105FT003</td>\n      <td>Shredder Flow Cooling Water Motor</td>\n      <td>classic</td>\n      <td>Float32</td>\n      <td></td>\n      <td>m3/h</td>\n      <td>50</td>\n      <td>0</td>\n      <td>FALSE</td>\n      <td>FALSE</td>\n      <td>-5</td>\n      <td>2022-12-22 03:36:20.776653</td>\n    </tr>\n    <tr>\n      <th>3</th>\n      <td>4</td>\n      <td>MAC</td>\n      <td>tag004</td>\n      <td>F1DP7qjp812TukOCueRElcymMwaYwAAATVBHREMtUElNU0...</td>\n      <td>Q0Q1-DCS-ML-105LT001</td>\n      <td>\\MPGDC-PIMSDBQ0Q1-DCS-ML-105LT001</td>\n      <td>Lube Oil Upper Tank</td>\n      <td>classic</td>\n      <td>Float32</td>\n      <td></td>\n      <td>%</td>\n      <td>100</td>\n      <td>0</td>\n      <td>FALSE</td>\n      <td>FALSE</td>\n      <td>-5</td>\n      <td>2022-12-22 03:36:20.776653</td>\n    </tr>\n    <tr>\n      <th>4</th>\n      <td>5</td>\n      <td>MAC</td>\n      <td>tag005</td>\n      <td>F1DP7qjp812TukOCueRElcymMwaowAAATVBHREMtUElNU0...</td>\n      <td>Q0Q1-DCS-ML-105LT002</td>\n      <td>\\MPGDC-PIMSDBQ0Q1-DCS-ML-105LT002</td>\n      <td>Lube Oil Lower Tank</td>\n      <td>classic</td>\n      <td>Float32</td>\n      <td></td>\n      <td>%</td>\n      <td>100</td>\n      <td>0</td>\n      <td>FALSE</td>\n      <td>FALSE</td>\n      <td>-5</td>\n      <td>2022-12-22 03:36:20.776653</td>\n    </tr>\n  </tbody>\n</table>\n</div>"
     },
     "execution_count": 25,
     "metadata": {},
     "output_type": "execute_result"
    }
   ],
   "source": [
    "df_taginfo.head()"
   ],
   "metadata": {
    "collapsed": false
   }
  },
  {
   "cell_type": "code",
   "execution_count": 27,
   "outputs": [],
   "source": [
    "cursor.execute(\"SELECT * FROM mitrphol_prod.smart_factory.shredder_fact_pidata_mac\")\n",
    "df_data: pd.DataFrame = cursor.fetch_dataframe()"
   ],
   "metadata": {
    "collapsed": false
   }
  },
  {
   "cell_type": "code",
   "execution_count": 29,
   "outputs": [
    {
     "data": {
      "text/plain": "   id                  ts           tag001_ts  tag001_val           tag002_ts  \\\n0   1 2022-12-22 16:01:04 2022-12-22 16:01:00  3.88036919 2022-12-22 15:55:00   \n1   6 2022-12-22 16:11:35 2022-12-22 16:11:00  3.27519655 2022-12-22 16:05:00   \n2  11 2022-12-22 16:16:31 2022-12-22 16:13:00    3.742733 2022-12-22 16:05:00   \n3  14 2022-12-22 16:19:44 2022-12-22 16:18:59    3.567254 2022-12-22 16:16:49   \n4  20 2022-12-22 16:25:44 2022-12-22 16:24:59  3.16838336 2022-12-22 16:16:49   \n\n   tag002_val           tag003_ts  tag003_val           tag004_ts tag004_val  \\\n0  4.68390942 2022-12-22 15:56:00  33.1094055 2022-12-22 16:00:00   97.21065   \n1  4.70618773 2022-12-22 16:07:00  33.1094055 2022-12-22 16:04:00   97.09926   \n2  4.70618773 2022-12-22 16:07:00  33.1094055 2022-12-22 16:04:00   97.09926   \n3  4.66712427 2022-12-22 16:16:49  33.1366463 2022-12-22 16:16:49   97.24574   \n4  4.66712427 2022-12-22 16:24:59  33.0827026 2022-12-22 16:24:59   97.13435   \n\n   ...           tag026_ts  tag026_val tag027_ts tag027_val tag028_ts  \\\n0  ... 2022-12-22 15:53:00     6560.39      None       None      None   \n1  ... 2022-12-22 16:04:00  6540.54443      None       None      None   \n2  ... 2022-12-22 16:04:00  6540.54443      None       None      None   \n3  ... 2022-12-22 16:16:49    6587.795      None       None      None   \n4  ... 2022-12-22 16:16:49    6587.795      None       None      None   \n\n  tag028_val tag029_ts tag029_val tag030_ts tag030_val  \n0       None      None       None      None       None  \n1       None      None       None      None       None  \n2       None      None       None      None       None  \n3       None      None       None      None       None  \n4       None      None       None      None       None  \n\n[5 rows x 62 columns]",
      "text/html": "<div>\n<style scoped>\n    .dataframe tbody tr th:only-of-type {\n        vertical-align: middle;\n    }\n\n    .dataframe tbody tr th {\n        vertical-align: top;\n    }\n\n    .dataframe thead th {\n        text-align: right;\n    }\n</style>\n<table border=\"1\" class=\"dataframe\">\n  <thead>\n    <tr style=\"text-align: right;\">\n      <th></th>\n      <th>id</th>\n      <th>ts</th>\n      <th>tag001_ts</th>\n      <th>tag001_val</th>\n      <th>tag002_ts</th>\n      <th>tag002_val</th>\n      <th>tag003_ts</th>\n      <th>tag003_val</th>\n      <th>tag004_ts</th>\n      <th>tag004_val</th>\n      <th>...</th>\n      <th>tag026_ts</th>\n      <th>tag026_val</th>\n      <th>tag027_ts</th>\n      <th>tag027_val</th>\n      <th>tag028_ts</th>\n      <th>tag028_val</th>\n      <th>tag029_ts</th>\n      <th>tag029_val</th>\n      <th>tag030_ts</th>\n      <th>tag030_val</th>\n    </tr>\n  </thead>\n  <tbody>\n    <tr>\n      <th>0</th>\n      <td>1</td>\n      <td>2022-12-22 16:01:04</td>\n      <td>2022-12-22 16:01:00</td>\n      <td>3.88036919</td>\n      <td>2022-12-22 15:55:00</td>\n      <td>4.68390942</td>\n      <td>2022-12-22 15:56:00</td>\n      <td>33.1094055</td>\n      <td>2022-12-22 16:00:00</td>\n      <td>97.21065</td>\n      <td>...</td>\n      <td>2022-12-22 15:53:00</td>\n      <td>6560.39</td>\n      <td>None</td>\n      <td>None</td>\n      <td>None</td>\n      <td>None</td>\n      <td>None</td>\n      <td>None</td>\n      <td>None</td>\n      <td>None</td>\n    </tr>\n    <tr>\n      <th>1</th>\n      <td>6</td>\n      <td>2022-12-22 16:11:35</td>\n      <td>2022-12-22 16:11:00</td>\n      <td>3.27519655</td>\n      <td>2022-12-22 16:05:00</td>\n      <td>4.70618773</td>\n      <td>2022-12-22 16:07:00</td>\n      <td>33.1094055</td>\n      <td>2022-12-22 16:04:00</td>\n      <td>97.09926</td>\n      <td>...</td>\n      <td>2022-12-22 16:04:00</td>\n      <td>6540.54443</td>\n      <td>None</td>\n      <td>None</td>\n      <td>None</td>\n      <td>None</td>\n      <td>None</td>\n      <td>None</td>\n      <td>None</td>\n      <td>None</td>\n    </tr>\n    <tr>\n      <th>2</th>\n      <td>11</td>\n      <td>2022-12-22 16:16:31</td>\n      <td>2022-12-22 16:13:00</td>\n      <td>3.742733</td>\n      <td>2022-12-22 16:05:00</td>\n      <td>4.70618773</td>\n      <td>2022-12-22 16:07:00</td>\n      <td>33.1094055</td>\n      <td>2022-12-22 16:04:00</td>\n      <td>97.09926</td>\n      <td>...</td>\n      <td>2022-12-22 16:04:00</td>\n      <td>6540.54443</td>\n      <td>None</td>\n      <td>None</td>\n      <td>None</td>\n      <td>None</td>\n      <td>None</td>\n      <td>None</td>\n      <td>None</td>\n      <td>None</td>\n    </tr>\n    <tr>\n      <th>3</th>\n      <td>14</td>\n      <td>2022-12-22 16:19:44</td>\n      <td>2022-12-22 16:18:59</td>\n      <td>3.567254</td>\n      <td>2022-12-22 16:16:49</td>\n      <td>4.66712427</td>\n      <td>2022-12-22 16:16:49</td>\n      <td>33.1366463</td>\n      <td>2022-12-22 16:16:49</td>\n      <td>97.24574</td>\n      <td>...</td>\n      <td>2022-12-22 16:16:49</td>\n      <td>6587.795</td>\n      <td>None</td>\n      <td>None</td>\n      <td>None</td>\n      <td>None</td>\n      <td>None</td>\n      <td>None</td>\n      <td>None</td>\n      <td>None</td>\n    </tr>\n    <tr>\n      <th>4</th>\n      <td>20</td>\n      <td>2022-12-22 16:25:44</td>\n      <td>2022-12-22 16:24:59</td>\n      <td>3.16838336</td>\n      <td>2022-12-22 16:16:49</td>\n      <td>4.66712427</td>\n      <td>2022-12-22 16:24:59</td>\n      <td>33.0827026</td>\n      <td>2022-12-22 16:24:59</td>\n      <td>97.13435</td>\n      <td>...</td>\n      <td>2022-12-22 16:16:49</td>\n      <td>6587.795</td>\n      <td>None</td>\n      <td>None</td>\n      <td>None</td>\n      <td>None</td>\n      <td>None</td>\n      <td>None</td>\n      <td>None</td>\n      <td>None</td>\n    </tr>\n  </tbody>\n</table>\n<p>5 rows × 62 columns</p>\n</div>"
     },
     "execution_count": 29,
     "metadata": {},
     "output_type": "execute_result"
    }
   ],
   "source": [
    "df_data.head()"
   ],
   "metadata": {
    "collapsed": false
   }
  },
  {
   "cell_type": "code",
   "execution_count": 30,
   "outputs": [],
   "source": [
    "cursor.execute(\"SELECT * FROM mitrphol_prod.smart_factory.shredder_fact_prediction_mac\")\n",
    "predict_mac: pd.DataFrame = cursor.fetch_dataframe()"
   ],
   "metadata": {
    "collapsed": false
   }
  },
  {
   "cell_type": "code",
   "execution_count": 32,
   "outputs": [
    {
     "data": {
      "text/plain": "   id                  ts     pred_val\n0   3 2023-01-05 14:38:30  0.385742247\n1   8 2023-01-05 14:46:14  0.367724955\n2  12 2023-01-05 14:50:10  0.358856112\n3  13 2023-01-05 14:51:10  0.356928825\n4  17 2023-01-05 14:55:10  0.382198095",
      "text/html": "<div>\n<style scoped>\n    .dataframe tbody tr th:only-of-type {\n        vertical-align: middle;\n    }\n\n    .dataframe tbody tr th {\n        vertical-align: top;\n    }\n\n    .dataframe thead th {\n        text-align: right;\n    }\n</style>\n<table border=\"1\" class=\"dataframe\">\n  <thead>\n    <tr style=\"text-align: right;\">\n      <th></th>\n      <th>id</th>\n      <th>ts</th>\n      <th>pred_val</th>\n    </tr>\n  </thead>\n  <tbody>\n    <tr>\n      <th>0</th>\n      <td>3</td>\n      <td>2023-01-05 14:38:30</td>\n      <td>0.385742247</td>\n    </tr>\n    <tr>\n      <th>1</th>\n      <td>8</td>\n      <td>2023-01-05 14:46:14</td>\n      <td>0.367724955</td>\n    </tr>\n    <tr>\n      <th>2</th>\n      <td>12</td>\n      <td>2023-01-05 14:50:10</td>\n      <td>0.358856112</td>\n    </tr>\n    <tr>\n      <th>3</th>\n      <td>13</td>\n      <td>2023-01-05 14:51:10</td>\n      <td>0.356928825</td>\n    </tr>\n    <tr>\n      <th>4</th>\n      <td>17</td>\n      <td>2023-01-05 14:55:10</td>\n      <td>0.382198095</td>\n    </tr>\n  </tbody>\n</table>\n</div>"
     },
     "execution_count": 32,
     "metadata": {},
     "output_type": "execute_result"
    }
   ],
   "source": [
    "predict_mac.head()"
   ],
   "metadata": {
    "collapsed": false
   }
  },
  {
   "cell_type": "code",
   "execution_count": null,
   "outputs": [],
   "source": [],
   "metadata": {
    "collapsed": false
   }
  }
 ],
 "metadata": {
  "kernelspec": {
   "display_name": "Python 3",
   "language": "python",
   "name": "python3"
  },
  "language_info": {
   "codemirror_mode": {
    "name": "ipython",
    "version": 2
   },
   "file_extension": ".py",
   "mimetype": "text/x-python",
   "name": "python",
   "nbconvert_exporter": "python",
   "pygments_lexer": "ipython2",
   "version": "2.7.6"
  }
 },
 "nbformat": 4,
 "nbformat_minor": 0
}
