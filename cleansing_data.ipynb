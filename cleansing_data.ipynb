{
 "cells": [
  {
   "cell_type": "code",
   "execution_count": 2,
   "metadata": {
    "collapsed": true
   },
   "outputs": [],
   "source": [
    "import pandas as pd"
   ]
  },
  {
   "cell_type": "code",
   "execution_count": 7,
   "outputs": [],
   "source": [
    "tag_pi = pd.read_csv('raw_aws/tag_pi.csv')"
   ],
   "metadata": {
    "collapsed": false
   }
  },
  {
   "cell_type": "code",
   "execution_count": 8,
   "outputs": [
    {
     "data": {
      "text/plain": "   Unnamed: 0  id factory columnname  \\\n0           0   1     MAC     tag001   \n1           1   2     MAC     tag002   \n2           2   3     MAC     tag003   \n3           3   4     MAC     tag004   \n4           4   5     MAC     tag005   \n\n                                               webid                  name  \\\n0  F1DP7qjp812TukOCueRElcymMwWIwAAATVBHREMtUElNU0...  Q0Q1-DCS-ML-105FT001   \n1  F1DP7qjp812TukOCueRElcymMwWYwAAATVBHREMtUElNU0...  Q0Q1-DCS-ML-105FT002   \n2  F1DP7qjp812TukOCueRElcymMwWowAAATVBHREMtUElNU0...  Q0Q1-DCS-ML-105FT003   \n3  F1DP7qjp812TukOCueRElcymMwaYwAAATVBHREMtUElNU0...  Q0Q1-DCS-ML-105LT001   \n4  F1DP7qjp812TukOCueRElcymMwaowAAATVBHREMtUElNU0...  Q0Q1-DCS-ML-105LT002   \n\n                             tagpath                         descriptor  \\\n0  \\MPGDC-PIMSDBQ0Q1-DCS-ML-105FT001         Shredder Flow Lube Oil NDE   \n1  \\MPGDC-PIMSDBQ0Q1-DCS-ML-105FT002          Shredder Flow Lube Oil DE   \n2  \\MPGDC-PIMSDBQ0Q1-DCS-ML-105FT003  Shredder Flow Cooling Water Motor   \n3  \\MPGDC-PIMSDBQ0Q1-DCS-ML-105LT001                Lube Oil Upper Tank   \n4  \\MPGDC-PIMSDBQ0Q1-DCS-ML-105LT002                Lube Oil Lower Tank   \n\n  pointclass pointtype  digitalsetname engineeringunits  span  zero   step  \\\n0    classic   Float32             NaN            L/min    50     0  False   \n1    classic   Float32             NaN            L/min    50     0  False   \n2    classic   Float32             NaN             m3/h    50     0  False   \n3    classic   Float32             NaN                %   100     0  False   \n4    classic   Float32             NaN                %   100     0  False   \n\n   future  displaydigits                  created_at  \n0   False             -5  2022-12-22 03:36:20.776653  \n1   False             -5  2022-12-22 03:36:20.776653  \n2   False             -5  2022-12-22 03:36:20.776653  \n3   False             -5  2022-12-22 03:36:20.776653  \n4   False             -5  2022-12-22 03:36:20.776653  ",
      "text/html": "<div>\n<style scoped>\n    .dataframe tbody tr th:only-of-type {\n        vertical-align: middle;\n    }\n\n    .dataframe tbody tr th {\n        vertical-align: top;\n    }\n\n    .dataframe thead th {\n        text-align: right;\n    }\n</style>\n<table border=\"1\" class=\"dataframe\">\n  <thead>\n    <tr style=\"text-align: right;\">\n      <th></th>\n      <th>Unnamed: 0</th>\n      <th>id</th>\n      <th>factory</th>\n      <th>columnname</th>\n      <th>webid</th>\n      <th>name</th>\n      <th>tagpath</th>\n      <th>descriptor</th>\n      <th>pointclass</th>\n      <th>pointtype</th>\n      <th>digitalsetname</th>\n      <th>engineeringunits</th>\n      <th>span</th>\n      <th>zero</th>\n      <th>step</th>\n      <th>future</th>\n      <th>displaydigits</th>\n      <th>created_at</th>\n    </tr>\n  </thead>\n  <tbody>\n    <tr>\n      <th>0</th>\n      <td>0</td>\n      <td>1</td>\n      <td>MAC</td>\n      <td>tag001</td>\n      <td>F1DP7qjp812TukOCueRElcymMwWIwAAATVBHREMtUElNU0...</td>\n      <td>Q0Q1-DCS-ML-105FT001</td>\n      <td>\\MPGDC-PIMSDBQ0Q1-DCS-ML-105FT001</td>\n      <td>Shredder Flow Lube Oil NDE</td>\n      <td>classic</td>\n      <td>Float32</td>\n      <td>NaN</td>\n      <td>L/min</td>\n      <td>50</td>\n      <td>0</td>\n      <td>False</td>\n      <td>False</td>\n      <td>-5</td>\n      <td>2022-12-22 03:36:20.776653</td>\n    </tr>\n    <tr>\n      <th>1</th>\n      <td>1</td>\n      <td>2</td>\n      <td>MAC</td>\n      <td>tag002</td>\n      <td>F1DP7qjp812TukOCueRElcymMwWYwAAATVBHREMtUElNU0...</td>\n      <td>Q0Q1-DCS-ML-105FT002</td>\n      <td>\\MPGDC-PIMSDBQ0Q1-DCS-ML-105FT002</td>\n      <td>Shredder Flow Lube Oil DE</td>\n      <td>classic</td>\n      <td>Float32</td>\n      <td>NaN</td>\n      <td>L/min</td>\n      <td>50</td>\n      <td>0</td>\n      <td>False</td>\n      <td>False</td>\n      <td>-5</td>\n      <td>2022-12-22 03:36:20.776653</td>\n    </tr>\n    <tr>\n      <th>2</th>\n      <td>2</td>\n      <td>3</td>\n      <td>MAC</td>\n      <td>tag003</td>\n      <td>F1DP7qjp812TukOCueRElcymMwWowAAATVBHREMtUElNU0...</td>\n      <td>Q0Q1-DCS-ML-105FT003</td>\n      <td>\\MPGDC-PIMSDBQ0Q1-DCS-ML-105FT003</td>\n      <td>Shredder Flow Cooling Water Motor</td>\n      <td>classic</td>\n      <td>Float32</td>\n      <td>NaN</td>\n      <td>m3/h</td>\n      <td>50</td>\n      <td>0</td>\n      <td>False</td>\n      <td>False</td>\n      <td>-5</td>\n      <td>2022-12-22 03:36:20.776653</td>\n    </tr>\n    <tr>\n      <th>3</th>\n      <td>3</td>\n      <td>4</td>\n      <td>MAC</td>\n      <td>tag004</td>\n      <td>F1DP7qjp812TukOCueRElcymMwaYwAAATVBHREMtUElNU0...</td>\n      <td>Q0Q1-DCS-ML-105LT001</td>\n      <td>\\MPGDC-PIMSDBQ0Q1-DCS-ML-105LT001</td>\n      <td>Lube Oil Upper Tank</td>\n      <td>classic</td>\n      <td>Float32</td>\n      <td>NaN</td>\n      <td>%</td>\n      <td>100</td>\n      <td>0</td>\n      <td>False</td>\n      <td>False</td>\n      <td>-5</td>\n      <td>2022-12-22 03:36:20.776653</td>\n    </tr>\n    <tr>\n      <th>4</th>\n      <td>4</td>\n      <td>5</td>\n      <td>MAC</td>\n      <td>tag005</td>\n      <td>F1DP7qjp812TukOCueRElcymMwaowAAATVBHREMtUElNU0...</td>\n      <td>Q0Q1-DCS-ML-105LT002</td>\n      <td>\\MPGDC-PIMSDBQ0Q1-DCS-ML-105LT002</td>\n      <td>Lube Oil Lower Tank</td>\n      <td>classic</td>\n      <td>Float32</td>\n      <td>NaN</td>\n      <td>%</td>\n      <td>100</td>\n      <td>0</td>\n      <td>False</td>\n      <td>False</td>\n      <td>-5</td>\n      <td>2022-12-22 03:36:20.776653</td>\n    </tr>\n  </tbody>\n</table>\n</div>"
     },
     "execution_count": 8,
     "metadata": {},
     "output_type": "execute_result"
    }
   ],
   "source": [
    "tag_pi.head()"
   ],
   "metadata": {
    "collapsed": false
   }
  },
  {
   "cell_type": "code",
   "execution_count": 1,
   "outputs": [
    {
     "ename": "NameError",
     "evalue": "name 'pd' is not defined",
     "output_type": "error",
     "traceback": [
      "\u001B[0;31m---------------------------------------------------------------------------\u001B[0m",
      "\u001B[0;31mNameError\u001B[0m                                 Traceback (most recent call last)",
      "Cell \u001B[0;32mIn[1], line 1\u001B[0m\n\u001B[0;32m----> 1\u001B[0m output \u001B[38;5;241m=\u001B[39m \u001B[43mpd\u001B[49m\u001B[38;5;241m.\u001B[39mread_csv(\u001B[38;5;124m'\u001B[39m\u001B[38;5;124mraw_aws/output_data_predictive.csv\u001B[39m\u001B[38;5;124m'\u001B[39m)\n\u001B[1;32m      2\u001B[0m output\u001B[38;5;241m.\u001B[39mhead(\u001B[38;5;241m10\u001B[39m)\n",
      "\u001B[0;31mNameError\u001B[0m: name 'pd' is not defined"
     ]
    }
   ],
   "source": [
    "output = pd.read_csv('raw_aws/output_data_predictive.csv')\n",
    "output.head(10)"
   ],
   "metadata": {
    "collapsed": false
   }
  },
  {
   "cell_type": "code",
   "execution_count": 40,
   "outputs": [
    {
     "data": {
      "text/plain": "0                                                    ts\n1           Q0Q1-DCS-ML-105FT001_ShredderFlowLubeOilNDE\n2            Q0Q1-DCS-ML-105FT002_ShredderFlowLubeOilDE\n3     Q0Q1-DCS-ML-105FT003_ShredderFlowCoolingWaterM...\n4                 Q0Q1-DCS-ML-105LT001_LubeOilUpperTank\n5                 Q0Q1-DCS-ML-105LT002_LubeOilLowerTank\n6              Q0Q1-DCS-ML-105MM010CUR_ShredderFeedACUR\n7              Q0Q1-DCS-ML-105MM010SPD_ShredderFeedASPD\n8              Q0Q1-DCS-ML-105MM011CUR_ShredderFeedBCUR\n9              Q0Q1-DCS-ML-105MM011SPD_ShredderFeedBSPD\n10            Q0Q1-DCS-ML-105MM014CUR_ShredderMagnetCUR\n11            Q0Q1-DCS-ML-105MM014POW_ShredderMagnetPOW\n12           Q0Q1-DCS-ML-105MM047CUR_LubeOilMotorNo1CUR\n13           Q0Q1-DCS-ML-105MM047POW_LubeOilMotorNo1POW\n14           Q0Q1-DCS-ML-105MM048CUR_LubeOilMotorNo2CUR\n15           Q0Q1-DCS-ML-105MM048POW_LubeOilMotorNo2POW\n16      Q0Q1-DCS-ML-105MM201AP_ShredderMotorActivePower\n17            Q0Q1-DCS-ML-105MM201CH_ChuteLevelShredder\n18       Q0Q1-DCS-ML-105MM201CURA_ShredderMotorCurrentA\n19       Q0Q1-DCS-ML-105MM201CURB_ShredderMotorCurrentB\n20       Q0Q1-DCS-ML-105MM201CURC_ShredderMotorCurrentC\n21          Q0Q1-DCS-ML-105MM201ENG_ShredderMotorEnergy\n22    Q0Q1-DCS-ML-105MM201ENGDEL_ShredderMotorEnergyDel\n23      Q0Q1-DCS-ML-105MM201PF_ShredderMotorPowerFactor\n24       Q0Q1-DCS-ML-105MM201VAB_ShredderMotorVoltageAB\n25       Q0Q1-DCS-ML-105MM201VBC_ShredderMotorVoltageBC\n26       Q0Q1-DCS-ML-105MM201VCA_ShredderMotorVoltageCA\nName: 0, dtype: object"
     },
     "execution_count": 40,
     "metadata": {},
     "output_type": "execute_result"
    }
   ],
   "source": [
    "raw_data = pd.read_csv('raw_aws/raw_dataset.csv', header=None)\n",
    "tag_name = raw_data.head().T\n",
    "tag_name[0]"
   ],
   "metadata": {
    "collapsed": false
   }
  },
  {
   "cell_type": "code",
   "execution_count": 47,
   "outputs": [
    {
     "data": {
      "text/plain": "                                                    0                    1  \\\n0                                                  ts  2022-12-22 16:01:04   \n1         Q0Q1-DCS-ML-105FT001_ShredderFlowLubeOilNDE           3.88036919   \n2          Q0Q1-DCS-ML-105FT002_ShredderFlowLubeOilDE           4.68390942   \n3   Q0Q1-DCS-ML-105FT003_ShredderFlowCoolingWaterM...           33.1094055   \n4               Q0Q1-DCS-ML-105LT001_LubeOilUpperTank             97.21065   \n5               Q0Q1-DCS-ML-105LT002_LubeOilLowerTank           31.8608379   \n6            Q0Q1-DCS-ML-105MM010CUR_ShredderFeedACUR                 39.7   \n7            Q0Q1-DCS-ML-105MM010SPD_ShredderFeedASPD                 None   \n8            Q0Q1-DCS-ML-105MM011CUR_ShredderFeedBCUR                 32.6   \n9            Q0Q1-DCS-ML-105MM011SPD_ShredderFeedBSPD                 None   \n10          Q0Q1-DCS-ML-105MM014CUR_ShredderMagnetCUR                 14.5   \n11          Q0Q1-DCS-ML-105MM014POW_ShredderMagnetPOW                 9.39   \n12         Q0Q1-DCS-ML-105MM047CUR_LubeOilMotorNo1CUR                  0.0   \n13         Q0Q1-DCS-ML-105MM047POW_LubeOilMotorNo1POW                  0.0   \n14         Q0Q1-DCS-ML-105MM048CUR_LubeOilMotorNo2CUR                  0.0   \n15         Q0Q1-DCS-ML-105MM048POW_LubeOilMotorNo2POW                  0.0   \n16    Q0Q1-DCS-ML-105MM201AP_ShredderMotorActivePower             4263.206   \n17          Q0Q1-DCS-ML-105MM201CH_ChuteLevelShredder                 62.5   \n18     Q0Q1-DCS-ML-105MM201CURA_ShredderMotorCurrentA           454.510529   \n19     Q0Q1-DCS-ML-105MM201CURB_ShredderMotorCurrentB           456.307434   \n20     Q0Q1-DCS-ML-105MM201CURC_ShredderMotorCurrentC           456.294647   \n21        Q0Q1-DCS-ML-105MM201ENG_ShredderMotorEnergy           17972.9512   \n22  Q0Q1-DCS-ML-105MM201ENGDEL_ShredderMotorEnergyDel           17972.8086   \n23    Q0Q1-DCS-ML-105MM201PF_ShredderMotorPowerFactor             0.824467   \n24     Q0Q1-DCS-ML-105MM201VAB_ShredderMotorVoltageAB           6551.34668   \n25     Q0Q1-DCS-ML-105MM201VBC_ShredderMotorVoltageBC           6558.15137   \n26     Q0Q1-DCS-ML-105MM201VCA_ShredderMotorVoltageCA              6560.39   \n\n                      2                    3                    4  \n0   2022-12-22 16:01:44  2022-12-22 16:02:00  2022-12-22 16:05:29  \n1            3.88036919           3.49858856            4.0561533  \n2            4.68390942           4.68390942           4.70618773  \n3            33.1094055           33.1094055           33.1094055  \n4              97.21065             97.21065             97.09926  \n5            31.8608379           31.8608379           31.8608379  \n6                  39.7                 32.9                 33.6  \n7                  None                 None                 None  \n8                  32.6                 30.7                 30.1  \n9                  None                 None                 None  \n10                 14.5                 14.5                 14.5  \n11                 9.39                 9.39                9.422  \n12                  0.0                  0.0                  0.0  \n13                  0.0                  0.0                  0.0  \n14                  0.0                  0.0                  0.0  \n15                  0.0                  0.0                  0.0  \n16             4263.206           3623.67188           4352.03857  \n17                 62.5                 50.0                 50.0  \n18           454.510529           401.313934           460.249268  \n19           456.307434            402.94635            461.91214  \n20           456.294647             402.6452           461.548859  \n21           17972.9512           17972.9512           17972.9512  \n22           17972.8086           17972.8086           17972.8086  \n23             0.824467             0.824467              0.84593  \n24           6551.34668           6551.34668           6551.34668  \n25           6558.15137           6558.15137             6538.392  \n26              6560.39              6560.39           6540.54443  ",
      "text/html": "<div>\n<style scoped>\n    .dataframe tbody tr th:only-of-type {\n        vertical-align: middle;\n    }\n\n    .dataframe tbody tr th {\n        vertical-align: top;\n    }\n\n    .dataframe thead th {\n        text-align: right;\n    }\n</style>\n<table border=\"1\" class=\"dataframe\">\n  <thead>\n    <tr style=\"text-align: right;\">\n      <th></th>\n      <th>0</th>\n      <th>1</th>\n      <th>2</th>\n      <th>3</th>\n      <th>4</th>\n    </tr>\n  </thead>\n  <tbody>\n    <tr>\n      <th>0</th>\n      <td>ts</td>\n      <td>2022-12-22 16:01:04</td>\n      <td>2022-12-22 16:01:44</td>\n      <td>2022-12-22 16:02:00</td>\n      <td>2022-12-22 16:05:29</td>\n    </tr>\n    <tr>\n      <th>1</th>\n      <td>Q0Q1-DCS-ML-105FT001_ShredderFlowLubeOilNDE</td>\n      <td>3.88036919</td>\n      <td>3.88036919</td>\n      <td>3.49858856</td>\n      <td>4.0561533</td>\n    </tr>\n    <tr>\n      <th>2</th>\n      <td>Q0Q1-DCS-ML-105FT002_ShredderFlowLubeOilDE</td>\n      <td>4.68390942</td>\n      <td>4.68390942</td>\n      <td>4.68390942</td>\n      <td>4.70618773</td>\n    </tr>\n    <tr>\n      <th>3</th>\n      <td>Q0Q1-DCS-ML-105FT003_ShredderFlowCoolingWaterM...</td>\n      <td>33.1094055</td>\n      <td>33.1094055</td>\n      <td>33.1094055</td>\n      <td>33.1094055</td>\n    </tr>\n    <tr>\n      <th>4</th>\n      <td>Q0Q1-DCS-ML-105LT001_LubeOilUpperTank</td>\n      <td>97.21065</td>\n      <td>97.21065</td>\n      <td>97.21065</td>\n      <td>97.09926</td>\n    </tr>\n    <tr>\n      <th>5</th>\n      <td>Q0Q1-DCS-ML-105LT002_LubeOilLowerTank</td>\n      <td>31.8608379</td>\n      <td>31.8608379</td>\n      <td>31.8608379</td>\n      <td>31.8608379</td>\n    </tr>\n    <tr>\n      <th>6</th>\n      <td>Q0Q1-DCS-ML-105MM010CUR_ShredderFeedACUR</td>\n      <td>39.7</td>\n      <td>39.7</td>\n      <td>32.9</td>\n      <td>33.6</td>\n    </tr>\n    <tr>\n      <th>7</th>\n      <td>Q0Q1-DCS-ML-105MM010SPD_ShredderFeedASPD</td>\n      <td>None</td>\n      <td>None</td>\n      <td>None</td>\n      <td>None</td>\n    </tr>\n    <tr>\n      <th>8</th>\n      <td>Q0Q1-DCS-ML-105MM011CUR_ShredderFeedBCUR</td>\n      <td>32.6</td>\n      <td>32.6</td>\n      <td>30.7</td>\n      <td>30.1</td>\n    </tr>\n    <tr>\n      <th>9</th>\n      <td>Q0Q1-DCS-ML-105MM011SPD_ShredderFeedBSPD</td>\n      <td>None</td>\n      <td>None</td>\n      <td>None</td>\n      <td>None</td>\n    </tr>\n    <tr>\n      <th>10</th>\n      <td>Q0Q1-DCS-ML-105MM014CUR_ShredderMagnetCUR</td>\n      <td>14.5</td>\n      <td>14.5</td>\n      <td>14.5</td>\n      <td>14.5</td>\n    </tr>\n    <tr>\n      <th>11</th>\n      <td>Q0Q1-DCS-ML-105MM014POW_ShredderMagnetPOW</td>\n      <td>9.39</td>\n      <td>9.39</td>\n      <td>9.39</td>\n      <td>9.422</td>\n    </tr>\n    <tr>\n      <th>12</th>\n      <td>Q0Q1-DCS-ML-105MM047CUR_LubeOilMotorNo1CUR</td>\n      <td>0.0</td>\n      <td>0.0</td>\n      <td>0.0</td>\n      <td>0.0</td>\n    </tr>\n    <tr>\n      <th>13</th>\n      <td>Q0Q1-DCS-ML-105MM047POW_LubeOilMotorNo1POW</td>\n      <td>0.0</td>\n      <td>0.0</td>\n      <td>0.0</td>\n      <td>0.0</td>\n    </tr>\n    <tr>\n      <th>14</th>\n      <td>Q0Q1-DCS-ML-105MM048CUR_LubeOilMotorNo2CUR</td>\n      <td>0.0</td>\n      <td>0.0</td>\n      <td>0.0</td>\n      <td>0.0</td>\n    </tr>\n    <tr>\n      <th>15</th>\n      <td>Q0Q1-DCS-ML-105MM048POW_LubeOilMotorNo2POW</td>\n      <td>0.0</td>\n      <td>0.0</td>\n      <td>0.0</td>\n      <td>0.0</td>\n    </tr>\n    <tr>\n      <th>16</th>\n      <td>Q0Q1-DCS-ML-105MM201AP_ShredderMotorActivePower</td>\n      <td>4263.206</td>\n      <td>4263.206</td>\n      <td>3623.67188</td>\n      <td>4352.03857</td>\n    </tr>\n    <tr>\n      <th>17</th>\n      <td>Q0Q1-DCS-ML-105MM201CH_ChuteLevelShredder</td>\n      <td>62.5</td>\n      <td>62.5</td>\n      <td>50.0</td>\n      <td>50.0</td>\n    </tr>\n    <tr>\n      <th>18</th>\n      <td>Q0Q1-DCS-ML-105MM201CURA_ShredderMotorCurrentA</td>\n      <td>454.510529</td>\n      <td>454.510529</td>\n      <td>401.313934</td>\n      <td>460.249268</td>\n    </tr>\n    <tr>\n      <th>19</th>\n      <td>Q0Q1-DCS-ML-105MM201CURB_ShredderMotorCurrentB</td>\n      <td>456.307434</td>\n      <td>456.307434</td>\n      <td>402.94635</td>\n      <td>461.91214</td>\n    </tr>\n    <tr>\n      <th>20</th>\n      <td>Q0Q1-DCS-ML-105MM201CURC_ShredderMotorCurrentC</td>\n      <td>456.294647</td>\n      <td>456.294647</td>\n      <td>402.6452</td>\n      <td>461.548859</td>\n    </tr>\n    <tr>\n      <th>21</th>\n      <td>Q0Q1-DCS-ML-105MM201ENG_ShredderMotorEnergy</td>\n      <td>17972.9512</td>\n      <td>17972.9512</td>\n      <td>17972.9512</td>\n      <td>17972.9512</td>\n    </tr>\n    <tr>\n      <th>22</th>\n      <td>Q0Q1-DCS-ML-105MM201ENGDEL_ShredderMotorEnergyDel</td>\n      <td>17972.8086</td>\n      <td>17972.8086</td>\n      <td>17972.8086</td>\n      <td>17972.8086</td>\n    </tr>\n    <tr>\n      <th>23</th>\n      <td>Q0Q1-DCS-ML-105MM201PF_ShredderMotorPowerFactor</td>\n      <td>0.824467</td>\n      <td>0.824467</td>\n      <td>0.824467</td>\n      <td>0.84593</td>\n    </tr>\n    <tr>\n      <th>24</th>\n      <td>Q0Q1-DCS-ML-105MM201VAB_ShredderMotorVoltageAB</td>\n      <td>6551.34668</td>\n      <td>6551.34668</td>\n      <td>6551.34668</td>\n      <td>6551.34668</td>\n    </tr>\n    <tr>\n      <th>25</th>\n      <td>Q0Q1-DCS-ML-105MM201VBC_ShredderMotorVoltageBC</td>\n      <td>6558.15137</td>\n      <td>6558.15137</td>\n      <td>6558.15137</td>\n      <td>6538.392</td>\n    </tr>\n    <tr>\n      <th>26</th>\n      <td>Q0Q1-DCS-ML-105MM201VCA_ShredderMotorVoltageCA</td>\n      <td>6560.39</td>\n      <td>6560.39</td>\n      <td>6560.39</td>\n      <td>6540.54443</td>\n    </tr>\n  </tbody>\n</table>\n</div>"
     },
     "execution_count": 47,
     "metadata": {},
     "output_type": "execute_result"
    }
   ],
   "source": [
    "tag_name"
   ],
   "metadata": {
    "collapsed": false
   }
  },
  {
   "cell_type": "code",
   "execution_count": null,
   "outputs": [],
   "source": [],
   "metadata": {
    "collapsed": false
   }
  }
 ],
 "metadata": {
  "kernelspec": {
   "display_name": "Python 3",
   "language": "python",
   "name": "python3"
  },
  "language_info": {
   "codemirror_mode": {
    "name": "ipython",
    "version": 2
   },
   "file_extension": ".py",
   "mimetype": "text/x-python",
   "name": "python",
   "nbconvert_exporter": "python",
   "pygments_lexer": "ipython2",
   "version": "2.7.6"
  }
 },
 "nbformat": 4,
 "nbformat_minor": 0
}
